{
  "nbformat": 4,
  "nbformat_minor": 0,
  "metadata": {
    "colab": {
      "provenance": [],
      "mount_file_id": "17D2OFLX3upo9df-nSkntmMEmZXLLteit",
      "authorship_tag": "ABX9TyMGFPEHX/s25s6bh7BU8RSr",
      "include_colab_link": true
    },
    "kernelspec": {
      "name": "python3",
      "display_name": "Python 3"
    },
    "language_info": {
      "name": "python"
    }
  },
  "cells": [
    {
      "cell_type": "markdown",
      "metadata": {
        "id": "view-in-github",
        "colab_type": "text"
      },
      "source": [
        "<a href=\"https://colab.research.google.com/github/erena29/Data-Analysis-SQL/blob/main/Property%20Management/Property_Data.ipynb\" target=\"_parent\"><img src=\"https://colab.research.google.com/assets/colab-badge.svg\" alt=\"Open In Colab\"/></a>"
      ]
    },
    {
      "cell_type": "markdown",
      "source": [
        "# **Property Management Data Analysis**"
      ],
      "metadata": {
        "id": "m0q5SXr_IJk2"
      }
    },
    {
      "cell_type": "markdown",
      "source": [
        "## Data Import and Database Setup"
      ],
      "metadata": {
        "id": "Z-CBSXR9I8Oo"
      }
    },
    {
      "cell_type": "code",
      "execution_count": 1,
      "metadata": {
        "id": "ox51ghhq9q6Q"
      },
      "outputs": [],
      "source": [
        "import pandas as pd\n",
        "import sqlite3"
      ]
    },
    {
      "cell_type": "code",
      "source": [
        "from google.colab import drive\n",
        "drive.mount('/content/drive')"
      ],
      "metadata": {
        "id": "7eQQj4WaisiW",
        "colab": {
          "base_uri": "https://localhost:8080/"
        },
        "outputId": "17d26d6a-fa51-4893-c978-5aed2a0f46ae"
      },
      "execution_count": 2,
      "outputs": [
        {
          "output_type": "stream",
          "name": "stdout",
          "text": [
            "Drive already mounted at /content/drive; to attempt to forcibly remount, call drive.mount(\"/content/drive\", force_remount=True).\n"
          ]
        }
      ]
    },
    {
      "cell_type": "code",
      "source": [
        "exp = pd.read_csv('/content/drive/MyDrive/Dataset/Property_management/Expense.csv')\n",
        "prop = pd.read_csv('/content/drive/MyDrive/Dataset/Property_management/Property.csv')\n",
        "sales = pd.read_csv('/content/drive/MyDrive/Dataset/Property_management/Sales.csv')"
      ],
      "metadata": {
        "id": "ElJhBu_Yn1Rb"
      },
      "execution_count": 4,
      "outputs": []
    },
    {
      "cell_type": "code",
      "source": [
        "# Load the SQL extension\n",
        "%load_ext sql\n",
        "\n",
        "# Create a SQLite database\n",
        "%sql sqlite://"
      ],
      "metadata": {
        "id": "KDjGygDNMShh"
      },
      "execution_count": 6,
      "outputs": []
    },
    {
      "cell_type": "code",
      "source": [
        "%sql drop table if exists exp, prop, sales;\n",
        "\n",
        "# Persist the DataFrames as tables in SQLi\n",
        "%sql --persist exp\n",
        "%sql --persist prop\n",
        "%sql --persist sales"
      ],
      "metadata": {
        "colab": {
          "base_uri": "https://localhost:8080/",
          "height": 157
        },
        "id": "feV15IGnT5so",
        "outputId": "0045bafc-7fa7-48af-e462-b9c3a83e5d4b"
      },
      "execution_count": 7,
      "outputs": [
        {
          "output_type": "stream",
          "name": "stdout",
          "text": [
            " * sqlite://\n",
            "(sqlite3.OperationalError) near \",\": syntax error\n",
            "[SQL: drop table if exists exp, prop, sales;]\n",
            "(Background on this error at: https://sqlalche.me/e/20/e3q8)\n",
            " * sqlite://\n",
            " * sqlite://\n",
            " * sqlite://\n"
          ]
        },
        {
          "output_type": "execute_result",
          "data": {
            "text/plain": [
              "'Persisted sales'"
            ],
            "application/vnd.google.colaboratory.intrinsic+json": {
              "type": "string"
            }
          },
          "metadata": {},
          "execution_count": 7
        }
      ]
    },
    {
      "cell_type": "markdown",
      "source": [
        "## Sample Data"
      ],
      "metadata": {
        "id": "snQUU_dgJEvZ"
      }
    },
    {
      "cell_type": "code",
      "source": [
        "%%sql\n",
        "SELECT * FROM sales LIMIT 5;"
      ],
      "metadata": {
        "colab": {
          "base_uri": "https://localhost:8080/",
          "height": 177
        },
        "id": "ptMS36T3MzN9",
        "outputId": "c6a0daa7-1ea6-4c7a-85ab-3da9988cee6e"
      },
      "execution_count": 22,
      "outputs": [
        {
          "output_type": "stream",
          "name": "stdout",
          "text": [
            " * sqlite://\n",
            "Done.\n"
          ]
        },
        {
          "output_type": "execute_result",
          "data": {
            "text/plain": [
              "[(0, 1, 1, '2023-07-14', 'Broker', 131, 'Paid'),\n",
              " (1, 2, 3, '2024-04-28', 'Direct', 198, 'Paid'),\n",
              " (2, 3, 4, '2022-01-05', 'Online', 123, 'Pending'),\n",
              " (3, 4, 5, '2022-02-04', 'Online', 198, 'Paid'),\n",
              " (4, 5, 6, '2022-06-17', 'Online', 198, 'Pending')]"
            ],
            "text/html": [
              "<table>\n",
              "    <thead>\n",
              "        <tr>\n",
              "            <th>index</th>\n",
              "            <th>SaleID</th>\n",
              "            <th>PropertyID_Sale</th>\n",
              "            <th>SaleDate</th>\n",
              "            <th>MeansofSales</th>\n",
              "            <th>ClientID</th>\n",
              "            <th>PaymentStatus</th>\n",
              "        </tr>\n",
              "    </thead>\n",
              "    <tbody>\n",
              "        <tr>\n",
              "            <td>0</td>\n",
              "            <td>1</td>\n",
              "            <td>1</td>\n",
              "            <td>2023-07-14</td>\n",
              "            <td>Broker</td>\n",
              "            <td>131</td>\n",
              "            <td>Paid</td>\n",
              "        </tr>\n",
              "        <tr>\n",
              "            <td>1</td>\n",
              "            <td>2</td>\n",
              "            <td>3</td>\n",
              "            <td>2024-04-28</td>\n",
              "            <td>Direct</td>\n",
              "            <td>198</td>\n",
              "            <td>Paid</td>\n",
              "        </tr>\n",
              "        <tr>\n",
              "            <td>2</td>\n",
              "            <td>3</td>\n",
              "            <td>4</td>\n",
              "            <td>2022-01-05</td>\n",
              "            <td>Online</td>\n",
              "            <td>123</td>\n",
              "            <td>Pending</td>\n",
              "        </tr>\n",
              "        <tr>\n",
              "            <td>3</td>\n",
              "            <td>4</td>\n",
              "            <td>5</td>\n",
              "            <td>2022-02-04</td>\n",
              "            <td>Online</td>\n",
              "            <td>198</td>\n",
              "            <td>Paid</td>\n",
              "        </tr>\n",
              "        <tr>\n",
              "            <td>4</td>\n",
              "            <td>5</td>\n",
              "            <td>6</td>\n",
              "            <td>2022-06-17</td>\n",
              "            <td>Online</td>\n",
              "            <td>198</td>\n",
              "            <td>Pending</td>\n",
              "        </tr>\n",
              "    </tbody>\n",
              "</table>"
            ]
          },
          "metadata": {},
          "execution_count": 22
        }
      ]
    },
    {
      "cell_type": "code",
      "source": [
        "%%sql\n",
        "SELECT * FROM prop LIMIT 5;"
      ],
      "metadata": {
        "colab": {
          "base_uri": "https://localhost:8080/",
          "height": 177
        },
        "id": "sZC8ZvHfEulQ",
        "outputId": "6e0406d6-2648-4250-9ae6-6a97617c62c8"
      },
      "execution_count": 23,
      "outputs": [
        {
          "output_type": "stream",
          "name": "stdout",
          "text": [
            " * sqlite://\n",
            "Done.\n"
          ]
        },
        {
          "output_type": "execute_result",
          "data": {
            "text/plain": [
              "[(0, 10, 'Mexico', 'Townhouse', 1, 3, 1200, 200000, '03-01-2022', 'Sold'),\n",
              " (1, 128, 'Italy', 'Townhouse', 4, 1, 1800, 200000, '03-02-2022', 'Sold'),\n",
              " (2, 129, 'France', 'Condo', 3, 2, 2500, 800000, '04-02-2022', 'Sold'),\n",
              " (3, 185, 'Brazil', 'Apartment', 2, 2, 1000, 1000000, '08-02-2022', 'Sold'),\n",
              " (4, 3, 'Germany', 'Townhouse', 2, 4, 750, 700000, '10-02-2022', 'Sold')]"
            ],
            "text/html": [
              "<table>\n",
              "    <thead>\n",
              "        <tr>\n",
              "            <th>index</th>\n",
              "            <th>PropertyID</th>\n",
              "            <th>Country</th>\n",
              "            <th>Type</th>\n",
              "            <th>Bedrooms</th>\n",
              "            <th>Bathrooms</th>\n",
              "            <th>SquareFootage</th>\n",
              "            <th>Price</th>\n",
              "            <th>ListedDate</th>\n",
              "            <th>Status</th>\n",
              "        </tr>\n",
              "    </thead>\n",
              "    <tbody>\n",
              "        <tr>\n",
              "            <td>0</td>\n",
              "            <td>10</td>\n",
              "            <td>Mexico</td>\n",
              "            <td>Townhouse</td>\n",
              "            <td>1</td>\n",
              "            <td>3</td>\n",
              "            <td>1200</td>\n",
              "            <td>200000</td>\n",
              "            <td>03-01-2022</td>\n",
              "            <td>Sold</td>\n",
              "        </tr>\n",
              "        <tr>\n",
              "            <td>1</td>\n",
              "            <td>128</td>\n",
              "            <td>Italy</td>\n",
              "            <td>Townhouse</td>\n",
              "            <td>4</td>\n",
              "            <td>1</td>\n",
              "            <td>1800</td>\n",
              "            <td>200000</td>\n",
              "            <td>03-02-2022</td>\n",
              "            <td>Sold</td>\n",
              "        </tr>\n",
              "        <tr>\n",
              "            <td>2</td>\n",
              "            <td>129</td>\n",
              "            <td>France</td>\n",
              "            <td>Condo</td>\n",
              "            <td>3</td>\n",
              "            <td>2</td>\n",
              "            <td>2500</td>\n",
              "            <td>800000</td>\n",
              "            <td>04-02-2022</td>\n",
              "            <td>Sold</td>\n",
              "        </tr>\n",
              "        <tr>\n",
              "            <td>3</td>\n",
              "            <td>185</td>\n",
              "            <td>Brazil</td>\n",
              "            <td>Apartment</td>\n",
              "            <td>2</td>\n",
              "            <td>2</td>\n",
              "            <td>1000</td>\n",
              "            <td>1000000</td>\n",
              "            <td>08-02-2022</td>\n",
              "            <td>Sold</td>\n",
              "        </tr>\n",
              "        <tr>\n",
              "            <td>4</td>\n",
              "            <td>3</td>\n",
              "            <td>Germany</td>\n",
              "            <td>Townhouse</td>\n",
              "            <td>2</td>\n",
              "            <td>4</td>\n",
              "            <td>750</td>\n",
              "            <td>700000</td>\n",
              "            <td>10-02-2022</td>\n",
              "            <td>Sold</td>\n",
              "        </tr>\n",
              "    </tbody>\n",
              "</table>"
            ]
          },
          "metadata": {},
          "execution_count": 23
        }
      ]
    },
    {
      "cell_type": "code",
      "source": [
        "%%sql\n",
        "SELECT * FROM exp LIMIT 5;"
      ],
      "metadata": {
        "colab": {
          "base_uri": "https://localhost:8080/",
          "height": 177
        },
        "id": "xtvDuvW4Exhi",
        "outputId": "d60ca79e-9c39-4b0c-ed54-6fa49fd65d9d"
      },
      "execution_count": 24,
      "outputs": [
        {
          "output_type": "stream",
          "name": "stdout",
          "text": [
            " * sqlite://\n",
            "Done.\n"
          ]
        },
        {
          "output_type": "execute_result",
          "data": {
            "text/plain": [
              "[(0, 1, 1, 'Maintenance', 100000, '2023-01-28'),\n",
              " (1, 2, 3, 'Maintenance', 300000, '2023-01-20'),\n",
              " (2, 3, 4, 'Maintenance', 250000, '2023-11-01'),\n",
              " (3, 4, 5, 'Renovation', 50000, '2023-09-10'),\n",
              " (4, 5, 6, 'Maintenance', 250000, '2023-05-25')]"
            ],
            "text/html": [
              "<table>\n",
              "    <thead>\n",
              "        <tr>\n",
              "            <th>index</th>\n",
              "            <th>ExpenseID</th>\n",
              "            <th>PropertyID_Expense</th>\n",
              "            <th>ExpenseType</th>\n",
              "            <th>Amount</th>\n",
              "            <th>Date</th>\n",
              "        </tr>\n",
              "    </thead>\n",
              "    <tbody>\n",
              "        <tr>\n",
              "            <td>0</td>\n",
              "            <td>1</td>\n",
              "            <td>1</td>\n",
              "            <td>Maintenance</td>\n",
              "            <td>100000</td>\n",
              "            <td>2023-01-28</td>\n",
              "        </tr>\n",
              "        <tr>\n",
              "            <td>1</td>\n",
              "            <td>2</td>\n",
              "            <td>3</td>\n",
              "            <td>Maintenance</td>\n",
              "            <td>300000</td>\n",
              "            <td>2023-01-20</td>\n",
              "        </tr>\n",
              "        <tr>\n",
              "            <td>2</td>\n",
              "            <td>3</td>\n",
              "            <td>4</td>\n",
              "            <td>Maintenance</td>\n",
              "            <td>250000</td>\n",
              "            <td>2023-11-01</td>\n",
              "        </tr>\n",
              "        <tr>\n",
              "            <td>3</td>\n",
              "            <td>4</td>\n",
              "            <td>5</td>\n",
              "            <td>Renovation</td>\n",
              "            <td>50000</td>\n",
              "            <td>2023-09-10</td>\n",
              "        </tr>\n",
              "        <tr>\n",
              "            <td>4</td>\n",
              "            <td>5</td>\n",
              "            <td>6</td>\n",
              "            <td>Maintenance</td>\n",
              "            <td>250000</td>\n",
              "            <td>2023-05-25</td>\n",
              "        </tr>\n",
              "    </tbody>\n",
              "</table>"
            ]
          },
          "metadata": {},
          "execution_count": 24
        }
      ]
    },
    {
      "cell_type": "markdown",
      "source": [
        "## SQL Analysis"
      ],
      "metadata": {
        "id": "Gx1Tvi6XJVC0"
      }
    },
    {
      "cell_type": "code",
      "source": [
        "%%sql\n",
        "SELECT\n",
        "  strftime('%Y', s.SaleDate) AS Year,\n",
        "  SUM(p.Price) AS Total_Revenue,\n",
        "  SUM(e.Amount) AS Total_Expense,\n",
        "  SUM(p.Price) - SUM(e.Amount) AS Total_Income,\n",
        "  COUNT(CASE WHEN p.Status = 'Sold' THEN 1 END) AS Properties_Sold\n",
        "FROM sales AS s\n",
        "LEFT JOIN prop AS p ON s.PropertyID_Sale = p.PropertyID\n",
        "LEFT JOIN exp AS e ON s.PropertyID_Sale = e.PropertyID_Expense\n",
        "GROUP BY Year\n",
        "ORDER BY Year;"
      ],
      "metadata": {
        "colab": {
          "base_uri": "https://localhost:8080/",
          "height": 136
        },
        "id": "0ySWWT02XWZT",
        "outputId": "4a9e6e9a-115a-4680-c4dc-df8f7856f4d9"
      },
      "execution_count": 25,
      "outputs": [
        {
          "output_type": "stream",
          "name": "stdout",
          "text": [
            " * sqlite://\n",
            "Done.\n"
          ]
        },
        {
          "output_type": "execute_result",
          "data": {
            "text/plain": [
              "[('2022', 29900000, 10350000, 19550000, 56),\n",
              " ('2023', 40800000, 10550000, 30250000, 60),\n",
              " ('2024', 25500000, 8700000, 16800000, 44)]"
            ],
            "text/html": [
              "<table>\n",
              "    <thead>\n",
              "        <tr>\n",
              "            <th>Year</th>\n",
              "            <th>Total_Revenue</th>\n",
              "            <th>Total_Expense</th>\n",
              "            <th>Total_Income</th>\n",
              "            <th>Properties_Sold</th>\n",
              "        </tr>\n",
              "    </thead>\n",
              "    <tbody>\n",
              "        <tr>\n",
              "            <td>2022</td>\n",
              "            <td>29900000</td>\n",
              "            <td>10350000</td>\n",
              "            <td>19550000</td>\n",
              "            <td>56</td>\n",
              "        </tr>\n",
              "        <tr>\n",
              "            <td>2023</td>\n",
              "            <td>40800000</td>\n",
              "            <td>10550000</td>\n",
              "            <td>30250000</td>\n",
              "            <td>60</td>\n",
              "        </tr>\n",
              "        <tr>\n",
              "            <td>2024</td>\n",
              "            <td>25500000</td>\n",
              "            <td>8700000</td>\n",
              "            <td>16800000</td>\n",
              "            <td>44</td>\n",
              "        </tr>\n",
              "    </tbody>\n",
              "</table>"
            ]
          },
          "metadata": {},
          "execution_count": 25
        }
      ]
    },
    {
      "cell_type": "code",
      "source": [
        "%%sql\n",
        "SELECT\n",
        "  strftime('%Y',SaleDate) AS Year,\n",
        "  COUNT(SaleID)\n",
        "FROM sales\n",
        "GROUP BY Year\n",
        "ORDER BY Year;"
      ],
      "metadata": {
        "colab": {
          "base_uri": "https://localhost:8080/",
          "height": 136
        },
        "id": "8JGb254tD9tn",
        "outputId": "32c3ad5d-31b7-4343-b688-38654e159fc4"
      },
      "execution_count": 21,
      "outputs": [
        {
          "output_type": "stream",
          "name": "stdout",
          "text": [
            " * sqlite://\n",
            "Done.\n"
          ]
        },
        {
          "output_type": "execute_result",
          "data": {
            "text/plain": [
              "[('2022', 56), ('2023', 60), ('2024', 44)]"
            ],
            "text/html": [
              "<table>\n",
              "    <thead>\n",
              "        <tr>\n",
              "            <th>Year</th>\n",
              "            <th>COUNT(SaleID)</th>\n",
              "        </tr>\n",
              "    </thead>\n",
              "    <tbody>\n",
              "        <tr>\n",
              "            <td>2022</td>\n",
              "            <td>56</td>\n",
              "        </tr>\n",
              "        <tr>\n",
              "            <td>2023</td>\n",
              "            <td>60</td>\n",
              "        </tr>\n",
              "        <tr>\n",
              "            <td>2024</td>\n",
              "            <td>44</td>\n",
              "        </tr>\n",
              "    </tbody>\n",
              "</table>"
            ]
          },
          "metadata": {},
          "execution_count": 21
        }
      ]
    }
  ]
}
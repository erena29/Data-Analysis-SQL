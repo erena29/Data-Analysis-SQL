{
  "nbformat": 4,
  "nbformat_minor": 0,
  "metadata": {
    "colab": {
      "provenance": [],
      "collapsed_sections": [
        "eKrSgz_Gqvhu",
        "EyAKrW_MqW7J"
      ],
      "mount_file_id": "17D2OFLX3upo9df-nSkntmMEmZXLLteit",
      "authorship_tag": "ABX9TyMH8TIUq6DNkb5Y3kXBT+Pt",
      "include_colab_link": true
    },
    "kernelspec": {
      "name": "python3",
      "display_name": "Python 3"
    },
    "language_info": {
      "name": "python"
    }
  },
  "cells": [
    {
      "cell_type": "markdown",
      "metadata": {
        "id": "view-in-github",
        "colab_type": "text"
      },
      "source": [
        "<a href=\"https://colab.research.google.com/github/erena29/Data-Analysis-SQL/blob/main/Real%20Estate%20Property%20Management%20Analysis/Real_Estate.ipynb\" target=\"_parent\"><img src=\"https://colab.research.google.com/assets/colab-badge.svg\" alt=\"Open In Colab\"/></a>"
      ]
    },
    {
      "cell_type": "markdown",
      "source": [
        "# **Property Management Data Analysis with SQL**"
      ],
      "metadata": {
        "id": "m0q5SXr_IJk2"
      }
    },
    {
      "cell_type": "markdown",
      "source": [
        "## Data Import and Database Setup"
      ],
      "metadata": {
        "id": "Z-CBSXR9I8Oo"
      }
    },
    {
      "cell_type": "code",
      "execution_count": 1,
      "metadata": {
        "id": "ox51ghhq9q6Q"
      },
      "outputs": [],
      "source": [
        "import pandas as pd\n",
        "import sqlite3"
      ]
    },
    {
      "cell_type": "code",
      "source": [
        "# Load the SQL extension\n",
        "%load_ext sql\n",
        "\n",
        "# Create a SQLite database\n",
        "%sql sqlite://"
      ],
      "metadata": {
        "id": "KDjGygDNMShh"
      },
      "execution_count": 2,
      "outputs": []
    },
    {
      "cell_type": "code",
      "source": [
        "from google.colab import drive\n",
        "drive.mount('/content/drive')"
      ],
      "metadata": {
        "id": "7eQQj4WaisiW",
        "colab": {
          "base_uri": "https://localhost:8080/"
        },
        "outputId": "23e91eb1-7707-485f-fa95-b14a61f7b4aa"
      },
      "execution_count": 3,
      "outputs": [
        {
          "output_type": "stream",
          "name": "stdout",
          "text": [
            "Drive already mounted at /content/drive; to attempt to forcibly remount, call drive.mount(\"/content/drive\", force_remount=True).\n"
          ]
        }
      ]
    },
    {
      "cell_type": "code",
      "source": [
        "expense = pd.read_csv('/content/drive/MyDrive/Dataset/real_estate/Expense.csv')\n",
        "property = pd.read_csv('/content/drive/MyDrive/Dataset/real_estate/Property.csv')\n",
        "sales = pd.read_csv('/content/drive/MyDrive/Dataset/real_estate/Sales.csv')"
      ],
      "metadata": {
        "id": "ElJhBu_Yn1Rb"
      },
      "execution_count": 4,
      "outputs": []
    },
    {
      "cell_type": "code",
      "source": [
        "%sql drop table if exists exp, property, sales;\n",
        "# Persist the DataFrames as tables in SQLi\n",
        "%sql --persist expense\n",
        "%sql --persist property\n",
        "%sql --persist sales"
      ],
      "metadata": {
        "colab": {
          "base_uri": "https://localhost:8080/",
          "height": 157
        },
        "id": "feV15IGnT5so",
        "outputId": "a81636a1-b899-483b-b5c7-9c8a3999505a"
      },
      "execution_count": 5,
      "outputs": [
        {
          "output_type": "stream",
          "name": "stdout",
          "text": [
            " * sqlite://\n",
            "(sqlite3.OperationalError) near \",\": syntax error\n",
            "[SQL: drop table if exists exp, property, sales;]\n",
            "(Background on this error at: https://sqlalche.me/e/20/e3q8)\n",
            " * sqlite://\n",
            " * sqlite://\n",
            " * sqlite://\n"
          ]
        },
        {
          "output_type": "execute_result",
          "data": {
            "text/plain": [
              "'Persisted sales'"
            ],
            "application/vnd.google.colaboratory.intrinsic+json": {
              "type": "string"
            }
          },
          "metadata": {},
          "execution_count": 5
        }
      ]
    },
    {
      "cell_type": "markdown",
      "source": [
        "## Sample Data"
      ],
      "metadata": {
        "id": "snQUU_dgJEvZ"
      }
    },
    {
      "cell_type": "code",
      "source": [
        "%%sql\n",
        "SELECT * FROM sales LIMIT 5"
      ],
      "metadata": {
        "colab": {
          "base_uri": "https://localhost:8080/",
          "height": 182
        },
        "id": "ptMS36T3MzN9",
        "outputId": "71aa4133-f16b-48fc-b219-b1bb221b1900"
      },
      "execution_count": 6,
      "outputs": [
        {
          "output_type": "stream",
          "name": "stdout",
          "text": [
            " * sqlite://\n",
            "Done.\n"
          ]
        },
        {
          "output_type": "execute_result",
          "data": {
            "text/plain": [
              "[(0, 1, 1, '2023-07-14', 'Broker', 131, 'Paid'),\n",
              " (1, 2, 3, '2024-04-28', 'Direct', 198, 'Paid'),\n",
              " (2, 3, 4, '2022-01-05', 'Online', 123, 'Pending'),\n",
              " (3, 4, 5, '2022-02-04', 'Online', 198, 'Paid'),\n",
              " (4, 5, 6, '2022-06-17', 'Online', 198, 'Pending')]"
            ],
            "text/html": [
              "<table>\n",
              "    <thead>\n",
              "        <tr>\n",
              "            <th>index</th>\n",
              "            <th>SaleID</th>\n",
              "            <th>PropertyID_Sale</th>\n",
              "            <th>SaleDate</th>\n",
              "            <th>MeansofSales</th>\n",
              "            <th>ClientID</th>\n",
              "            <th>PaymentStatus</th>\n",
              "        </tr>\n",
              "    </thead>\n",
              "    <tbody>\n",
              "        <tr>\n",
              "            <td>0</td>\n",
              "            <td>1</td>\n",
              "            <td>1</td>\n",
              "            <td>2023-07-14</td>\n",
              "            <td>Broker</td>\n",
              "            <td>131</td>\n",
              "            <td>Paid</td>\n",
              "        </tr>\n",
              "        <tr>\n",
              "            <td>1</td>\n",
              "            <td>2</td>\n",
              "            <td>3</td>\n",
              "            <td>2024-04-28</td>\n",
              "            <td>Direct</td>\n",
              "            <td>198</td>\n",
              "            <td>Paid</td>\n",
              "        </tr>\n",
              "        <tr>\n",
              "            <td>2</td>\n",
              "            <td>3</td>\n",
              "            <td>4</td>\n",
              "            <td>2022-01-05</td>\n",
              "            <td>Online</td>\n",
              "            <td>123</td>\n",
              "            <td>Pending</td>\n",
              "        </tr>\n",
              "        <tr>\n",
              "            <td>3</td>\n",
              "            <td>4</td>\n",
              "            <td>5</td>\n",
              "            <td>2022-02-04</td>\n",
              "            <td>Online</td>\n",
              "            <td>198</td>\n",
              "            <td>Paid</td>\n",
              "        </tr>\n",
              "        <tr>\n",
              "            <td>4</td>\n",
              "            <td>5</td>\n",
              "            <td>6</td>\n",
              "            <td>2022-06-17</td>\n",
              "            <td>Online</td>\n",
              "            <td>198</td>\n",
              "            <td>Pending</td>\n",
              "        </tr>\n",
              "    </tbody>\n",
              "</table>"
            ]
          },
          "metadata": {},
          "execution_count": 6
        }
      ]
    },
    {
      "cell_type": "code",
      "source": [
        "%%sql\n",
        "SELECT * FROM property LIMIT 5;"
      ],
      "metadata": {
        "colab": {
          "base_uri": "https://localhost:8080/",
          "height": 182
        },
        "id": "sZC8ZvHfEulQ",
        "outputId": "14500402-4583-4b11-9358-54a2aae7e4a3"
      },
      "execution_count": 7,
      "outputs": [
        {
          "output_type": "stream",
          "name": "stdout",
          "text": [
            " * sqlite://\n",
            "Done.\n"
          ]
        },
        {
          "output_type": "execute_result",
          "data": {
            "text/plain": [
              "[(0, 10, 'Townhouse', 1200, 200000, 'Sold'),\n",
              " (1, 128, 'Townhouse', 1800, 200000, 'Sold'),\n",
              " (2, 129, 'Condo', 2500, 800000, 'Sold'),\n",
              " (3, 185, 'Apartment', 1000, 1000000, 'Sold'),\n",
              " (4, 3, 'Townhouse', 750, 700000, 'Sold')]"
            ],
            "text/html": [
              "<table>\n",
              "    <thead>\n",
              "        <tr>\n",
              "            <th>index</th>\n",
              "            <th>PropertyID</th>\n",
              "            <th>Type</th>\n",
              "            <th>SquareFootage</th>\n",
              "            <th>Price</th>\n",
              "            <th>Status</th>\n",
              "        </tr>\n",
              "    </thead>\n",
              "    <tbody>\n",
              "        <tr>\n",
              "            <td>0</td>\n",
              "            <td>10</td>\n",
              "            <td>Townhouse</td>\n",
              "            <td>1200</td>\n",
              "            <td>200000</td>\n",
              "            <td>Sold</td>\n",
              "        </tr>\n",
              "        <tr>\n",
              "            <td>1</td>\n",
              "            <td>128</td>\n",
              "            <td>Townhouse</td>\n",
              "            <td>1800</td>\n",
              "            <td>200000</td>\n",
              "            <td>Sold</td>\n",
              "        </tr>\n",
              "        <tr>\n",
              "            <td>2</td>\n",
              "            <td>129</td>\n",
              "            <td>Condo</td>\n",
              "            <td>2500</td>\n",
              "            <td>800000</td>\n",
              "            <td>Sold</td>\n",
              "        </tr>\n",
              "        <tr>\n",
              "            <td>3</td>\n",
              "            <td>185</td>\n",
              "            <td>Apartment</td>\n",
              "            <td>1000</td>\n",
              "            <td>1000000</td>\n",
              "            <td>Sold</td>\n",
              "        </tr>\n",
              "        <tr>\n",
              "            <td>4</td>\n",
              "            <td>3</td>\n",
              "            <td>Townhouse</td>\n",
              "            <td>750</td>\n",
              "            <td>700000</td>\n",
              "            <td>Sold</td>\n",
              "        </tr>\n",
              "    </tbody>\n",
              "</table>"
            ]
          },
          "metadata": {},
          "execution_count": 7
        }
      ]
    },
    {
      "cell_type": "code",
      "source": [
        "%%sql\n",
        "SELECT * FROM expense LIMIT 5;"
      ],
      "metadata": {
        "colab": {
          "base_uri": "https://localhost:8080/",
          "height": 182
        },
        "id": "xtvDuvW4Exhi",
        "outputId": "e720943d-f224-46ab-95c9-f9846519acbd"
      },
      "execution_count": 8,
      "outputs": [
        {
          "output_type": "stream",
          "name": "stdout",
          "text": [
            " * sqlite://\n",
            "Done.\n"
          ]
        },
        {
          "output_type": "execute_result",
          "data": {
            "text/plain": [
              "[(0, 1, 1, 'Maintenance', 100000),\n",
              " (1, 2, 3, 'Maintenance', 300000),\n",
              " (2, 3, 4, 'Maintenance', 250000),\n",
              " (3, 4, 5, 'Renovation', 50000),\n",
              " (4, 5, 6, 'Maintenance', 250000)]"
            ],
            "text/html": [
              "<table>\n",
              "    <thead>\n",
              "        <tr>\n",
              "            <th>index</th>\n",
              "            <th>ExpenseID</th>\n",
              "            <th>PropertyID_Expense</th>\n",
              "            <th>ExpenseType</th>\n",
              "            <th>Amount</th>\n",
              "        </tr>\n",
              "    </thead>\n",
              "    <tbody>\n",
              "        <tr>\n",
              "            <td>0</td>\n",
              "            <td>1</td>\n",
              "            <td>1</td>\n",
              "            <td>Maintenance</td>\n",
              "            <td>100000</td>\n",
              "        </tr>\n",
              "        <tr>\n",
              "            <td>1</td>\n",
              "            <td>2</td>\n",
              "            <td>3</td>\n",
              "            <td>Maintenance</td>\n",
              "            <td>300000</td>\n",
              "        </tr>\n",
              "        <tr>\n",
              "            <td>2</td>\n",
              "            <td>3</td>\n",
              "            <td>4</td>\n",
              "            <td>Maintenance</td>\n",
              "            <td>250000</td>\n",
              "        </tr>\n",
              "        <tr>\n",
              "            <td>3</td>\n",
              "            <td>4</td>\n",
              "            <td>5</td>\n",
              "            <td>Renovation</td>\n",
              "            <td>50000</td>\n",
              "        </tr>\n",
              "        <tr>\n",
              "            <td>4</td>\n",
              "            <td>5</td>\n",
              "            <td>6</td>\n",
              "            <td>Maintenance</td>\n",
              "            <td>250000</td>\n",
              "        </tr>\n",
              "    </tbody>\n",
              "</table>"
            ]
          },
          "metadata": {},
          "execution_count": 8
        }
      ]
    },
    {
      "cell_type": "markdown",
      "source": [
        "## SQL Analysis"
      ],
      "metadata": {
        "id": "Gx1Tvi6XJVC0"
      }
    },
    {
      "cell_type": "markdown",
      "source": [
        "### **Yearly Financial Overview and Property Sales**"
      ],
      "metadata": {
        "id": "eKrSgz_Gqvhu"
      }
    },
    {
      "cell_type": "code",
      "source": [
        "%%sql\n",
        "SELECT\n",
        "  strftime('%Y', s.SaleDate) AS Year, --mysql: EXTRACT(YEAR FROM s.SaleDate)\n",
        "  SUM(e.Amount) AS Total_Expense,\n",
        "  SUM(p.Price) - SUM(e.Amount) AS Total_Income,\n",
        "  COUNT(CASE WHEN p.Status = 'Sold' THEN 1 END) AS Properties_Sold\n",
        "FROM sales AS s\n",
        "LEFT JOIN property AS p ON s.PropertyID_Sale = p.PropertyID\n",
        "LEFT JOIN expense AS e ON s.PropertyID_Sale = e.PropertyID_Expense\n",
        "GROUP BY Year\n",
        "ORDER BY Year;"
      ],
      "metadata": {
        "colab": {
          "base_uri": "https://localhost:8080/",
          "height": 0
        },
        "id": "0ySWWT02XWZT",
        "outputId": "521dfde9-1151-4ea9-e4e9-f5a06f8e4783"
      },
      "execution_count": 9,
      "outputs": [
        {
          "output_type": "stream",
          "name": "stdout",
          "text": [
            " * sqlite://\n",
            "Done.\n"
          ]
        },
        {
          "output_type": "execute_result",
          "data": {
            "text/plain": [
              "[('2022', 10350000, 19550000, 56),\n",
              " ('2023', 10550000, 30250000, 60),\n",
              " ('2024', 8700000, 16800000, 44)]"
            ],
            "text/html": [
              "<table>\n",
              "    <thead>\n",
              "        <tr>\n",
              "            <th>Year</th>\n",
              "            <th>Total_Expense</th>\n",
              "            <th>Total_Income</th>\n",
              "            <th>Properties_Sold</th>\n",
              "        </tr>\n",
              "    </thead>\n",
              "    <tbody>\n",
              "        <tr>\n",
              "            <td>2022</td>\n",
              "            <td>10350000</td>\n",
              "            <td>19550000</td>\n",
              "            <td>56</td>\n",
              "        </tr>\n",
              "        <tr>\n",
              "            <td>2023</td>\n",
              "            <td>10550000</td>\n",
              "            <td>30250000</td>\n",
              "            <td>60</td>\n",
              "        </tr>\n",
              "        <tr>\n",
              "            <td>2024</td>\n",
              "            <td>8700000</td>\n",
              "            <td>16800000</td>\n",
              "            <td>44</td>\n",
              "        </tr>\n",
              "    </tbody>\n",
              "</table>"
            ]
          },
          "metadata": {},
          "execution_count": 9
        }
      ]
    },
    {
      "cell_type": "markdown",
      "source": [
        "### **Top 3 Months by Revenue in 2024**"
      ],
      "metadata": {
        "id": "EyAKrW_MqW7J"
      }
    },
    {
      "cell_type": "code",
      "source": [
        "%%sql\n",
        "SELECT\n",
        "  strftime('%m', s.SaleDate) AS Month,\n",
        "  SUM(p.Price) AS Revenue\n",
        "FROM sales AS s\n",
        "LEFT JOIN property AS p\n",
        "  ON s.PropertyID_Sale = p.PropertyID\n",
        "WHERE strftime('%Y', s.SaleDate) = '2024'\n",
        "GROUP BY Month\n",
        "ORDER BY Revenue DESC\n",
        "LIMIT 3;"
      ],
      "metadata": {
        "colab": {
          "base_uri": "https://localhost:8080/",
          "height": 0
        },
        "id": "8JGb254tD9tn",
        "outputId": "7c7ecfb6-6f9e-453e-83c2-e6ba894e2eab"
      },
      "execution_count": 10,
      "outputs": [
        {
          "output_type": "stream",
          "name": "stdout",
          "text": [
            " * sqlite://\n",
            "Done.\n"
          ]
        },
        {
          "output_type": "execute_result",
          "data": {
            "text/plain": [
              "[('07', 6100000), ('08', 3900000), ('04', 3700000)]"
            ],
            "text/html": [
              "<table>\n",
              "    <thead>\n",
              "        <tr>\n",
              "            <th>Month</th>\n",
              "            <th>Revenue</th>\n",
              "        </tr>\n",
              "    </thead>\n",
              "    <tbody>\n",
              "        <tr>\n",
              "            <td>07</td>\n",
              "            <td>6100000</td>\n",
              "        </tr>\n",
              "        <tr>\n",
              "            <td>08</td>\n",
              "            <td>3900000</td>\n",
              "        </tr>\n",
              "        <tr>\n",
              "            <td>04</td>\n",
              "            <td>3700000</td>\n",
              "        </tr>\n",
              "    </tbody>\n",
              "</table>"
            ]
          },
          "metadata": {},
          "execution_count": 10
        }
      ]
    },
    {
      "cell_type": "markdown",
      "source": [
        "### **Distribution of Sales by Means of Sale**"
      ],
      "metadata": {
        "id": "aV6YgroxvCOZ"
      }
    },
    {
      "cell_type": "code",
      "source": [
        "%%sql\n",
        "SELECT\n",
        "  MeansofSales,\n",
        "  COUNT(MeansofSales) AS Count\n",
        "FROM sales\n",
        "GROUP BY MeansofSales"
      ],
      "metadata": {
        "colab": {
          "base_uri": "https://localhost:8080/",
          "height": 139
        },
        "id": "V4UYGWTCvDvT",
        "outputId": "a0059ef7-577c-4141-af58-27e6edc4fea6"
      },
      "execution_count": 11,
      "outputs": [
        {
          "output_type": "stream",
          "name": "stdout",
          "text": [
            " * sqlite://\n",
            "Done.\n"
          ]
        },
        {
          "output_type": "execute_result",
          "data": {
            "text/plain": [
              "[('Broker', 61), ('Direct', 45), ('Online', 54)]"
            ],
            "text/html": [
              "<table>\n",
              "    <thead>\n",
              "        <tr>\n",
              "            <th>MeansofSales</th>\n",
              "            <th>Count</th>\n",
              "        </tr>\n",
              "    </thead>\n",
              "    <tbody>\n",
              "        <tr>\n",
              "            <td>Broker</td>\n",
              "            <td>61</td>\n",
              "        </tr>\n",
              "        <tr>\n",
              "            <td>Direct</td>\n",
              "            <td>45</td>\n",
              "        </tr>\n",
              "        <tr>\n",
              "            <td>Online</td>\n",
              "            <td>54</td>\n",
              "        </tr>\n",
              "    </tbody>\n",
              "</table>"
            ]
          },
          "metadata": {},
          "execution_count": 11
        }
      ]
    },
    {
      "cell_type": "markdown",
      "source": [
        "### **Comparison of Payment Status by Sale Method**"
      ],
      "metadata": {
        "id": "thTawcBqFWFX"
      }
    },
    {
      "cell_type": "code",
      "source": [
        "%%sql\n",
        "SELECT\n",
        "    MeansofSales,\n",
        "    COUNT(CASE WHEN PaymentStatus = 'Paid' THEN 1 END) AS Paid_Count,\n",
        "    COUNT(CASE WHEN PaymentStatus = 'Pending' THEN 1 END) AS Pending_Count,\n",
        "    ROUND(\n",
        "        (COUNT(CASE WHEN PaymentStatus = 'Paid' THEN 1 END) * 100.0) / COUNT(*),\n",
        "        2\n",
        "    ) AS Paid_Percentage\n",
        "FROM sales\n",
        "GROUP BY MeansofSales\n",
        "ORDER BY MeansofSales;"
      ],
      "metadata": {
        "colab": {
          "base_uri": "https://localhost:8080/",
          "height": 139
        },
        "id": "ikJ2SmiuBbrF",
        "outputId": "2061cb4d-7e43-462b-b950-581e72fc241d"
      },
      "execution_count": 12,
      "outputs": [
        {
          "output_type": "stream",
          "name": "stdout",
          "text": [
            " * sqlite://\n",
            "Done.\n"
          ]
        },
        {
          "output_type": "execute_result",
          "data": {
            "text/plain": [
              "[('Broker', 23, 38, 37.7),\n",
              " ('Direct', 17, 28, 37.78),\n",
              " ('Online', 24, 30, 44.44)]"
            ],
            "text/html": [
              "<table>\n",
              "    <thead>\n",
              "        <tr>\n",
              "            <th>MeansofSales</th>\n",
              "            <th>Paid_Count</th>\n",
              "            <th>Pending_Count</th>\n",
              "            <th>Paid_Percentage</th>\n",
              "        </tr>\n",
              "    </thead>\n",
              "    <tbody>\n",
              "        <tr>\n",
              "            <td>Broker</td>\n",
              "            <td>23</td>\n",
              "            <td>38</td>\n",
              "            <td>37.7</td>\n",
              "        </tr>\n",
              "        <tr>\n",
              "            <td>Direct</td>\n",
              "            <td>17</td>\n",
              "            <td>28</td>\n",
              "            <td>37.78</td>\n",
              "        </tr>\n",
              "        <tr>\n",
              "            <td>Online</td>\n",
              "            <td>24</td>\n",
              "            <td>30</td>\n",
              "            <td>44.44</td>\n",
              "        </tr>\n",
              "    </tbody>\n",
              "</table>"
            ]
          },
          "metadata": {},
          "execution_count": 12
        }
      ]
    },
    {
      "cell_type": "markdown",
      "source": [
        "### **Revenue by Property Type and Year**"
      ],
      "metadata": {
        "id": "UFAYLB-zyd0R"
      }
    },
    {
      "cell_type": "code",
      "source": [
        "%%sql\n",
        "SELECT\n",
        "  p.Type AS Property_Type,\n",
        "  SUM(CASE WHEN strftime('%Y', s.SaleDate) = '2022' THEN p.Price ELSE 0 END) AS Revenue_2022,\n",
        "  SUM(CASE WHEN strftime('%Y', s.SaleDate) = '2023' THEN p.Price ELSE 0 END) AS Revenue_2023,\n",
        "  SUM(CASE WHEN strftime('%Y', s.SaleDate) = '2024' THEN p.Price ELSE 0 END) AS Revenue_2024,\n",
        "  SUM(p.Price) AS Total_Revenue\n",
        "FROM sales AS s\n",
        "LEFT JOIN property AS p\n",
        "  ON s.PropertyID_Sale = p.PropertyID\n",
        "GROUP BY Property_Type\n",
        "ORDER BY Total_Revenue DESC;"
      ],
      "metadata": {
        "colab": {
          "base_uri": "https://localhost:8080/",
          "height": 161
        },
        "id": "sLCcbs0-xUap",
        "outputId": "30487f52-9ab2-482b-ad16-831b69e2f4a7"
      },
      "execution_count": 13,
      "outputs": [
        {
          "output_type": "stream",
          "name": "stdout",
          "text": [
            " * sqlite://\n",
            "Done.\n"
          ]
        },
        {
          "output_type": "execute_result",
          "data": {
            "text/plain": [
              "[('Condo', 6500000, 16800000, 7500000, 30800000),\n",
              " ('Single Family', 9900000, 7800000, 7300000, 25000000),\n",
              " ('Apartment', 7400000, 8900000, 6900000, 23200000),\n",
              " ('Townhouse', 6100000, 7300000, 3800000, 17200000)]"
            ],
            "text/html": [
              "<table>\n",
              "    <thead>\n",
              "        <tr>\n",
              "            <th>Property_Type</th>\n",
              "            <th>Revenue_2022</th>\n",
              "            <th>Revenue_2023</th>\n",
              "            <th>Revenue_2024</th>\n",
              "            <th>Total_Revenue</th>\n",
              "        </tr>\n",
              "    </thead>\n",
              "    <tbody>\n",
              "        <tr>\n",
              "            <td>Condo</td>\n",
              "            <td>6500000</td>\n",
              "            <td>16800000</td>\n",
              "            <td>7500000</td>\n",
              "            <td>30800000</td>\n",
              "        </tr>\n",
              "        <tr>\n",
              "            <td>Single Family</td>\n",
              "            <td>9900000</td>\n",
              "            <td>7800000</td>\n",
              "            <td>7300000</td>\n",
              "            <td>25000000</td>\n",
              "        </tr>\n",
              "        <tr>\n",
              "            <td>Apartment</td>\n",
              "            <td>7400000</td>\n",
              "            <td>8900000</td>\n",
              "            <td>6900000</td>\n",
              "            <td>23200000</td>\n",
              "        </tr>\n",
              "        <tr>\n",
              "            <td>Townhouse</td>\n",
              "            <td>6100000</td>\n",
              "            <td>7300000</td>\n",
              "            <td>3800000</td>\n",
              "            <td>17200000</td>\n",
              "        </tr>\n",
              "    </tbody>\n",
              "</table>"
            ]
          },
          "metadata": {},
          "execution_count": 13
        }
      ]
    },
    {
      "cell_type": "markdown",
      "source": [
        "### **Months with Revenue Smaller than the Yearly Average**\n",
        "\n",
        "1.  **Average Yearly Revenue Calculation by Year:**\n",
        "In this step, a subquery is used within the CTE (Common Table Expression) to calculate the average yearly revenue. The subquery groups by year and month, summing the revenue for each month `Monthly_Revenue`. The outer query then calculates the average revenue for each year `Avg_Yearly_Revenue` by averaging the monthly revenues across all months within the same year.\n",
        "\n",
        "2.   **Filtering Months with Revenue Below Yearly Average:**\n",
        "In this step, the filtered_months CTE filters months where the total revenue is below the average yearly revenue calculated in the previous CTE `avg_year`.\n",
        "\n",
        "3.  **Selecting Months with More than One Revenue Entry Above Yearly Average:**\n",
        "In this step, the query selects months from the `filtered_months` CTE that have more than one occurrence of revenue data."
      ],
      "metadata": {
        "id": "HbnKviQNP2On"
      }
    },
    {
      "cell_type": "code",
      "source": [
        "%%sql\n",
        "-- Calculate the Average Yearly Revenue for each year\n",
        "WITH avg_year AS (\n",
        "  SELECT\n",
        "    Year,\n",
        "    ROUND(AVG(Monthly_Revenue), 2) AS Avg_Yearly_Revenue\n",
        "  FROM (\n",
        "    SELECT\n",
        "      strftime('%Y', SaleDate) AS Year,\n",
        "      strftime('%m', SaleDate) AS Month,\n",
        "      SUM(Price) AS Monthly_Revenue\n",
        "    FROM sales AS s\n",
        "    LEFT JOIN property AS p\n",
        "      ON s.PropertyID_Sale = p.PropertyID\n",
        "    GROUP BY Year, Month\n",
        "  ) AS Monthly_Revenues\n",
        "  GROUP BY Year\n",
        "  ORDER BY Year\n",
        ")\n",
        "--Filter the months where revenue is below the yearly average\n",
        ", filtered_months AS(\n",
        "  SELECT\n",
        "    strftime('%Y', SaleDate) AS Year,\n",
        "    strftime('%m', SaleDate) AS Month,\n",
        "    SUM(Price) AS Revenue\n",
        "  FROM sales AS s\n",
        "  LEFT JOIN property AS p\n",
        "    ON s.PropertyID_Sale = p.PropertyID\n",
        "  JOIN avg_year AS avg\n",
        "    ON strftime('%Y', SaleDate) = avg.Year\n",
        "  GROUP BY Year, Month, avg.Avg_Yearly_Revenue\n",
        "  HAVING SUM(p.Price) < avg.Avg_Yearly_Revenue\n",
        "  ORDER BY Month DESC\n",
        ")\n",
        "--Select months that have more than one occurrence\n",
        "SELECT Month\n",
        "FROM filtered_months\n",
        "GROUP BY Month\n",
        "HAVING COUNT(Month) > 1\n",
        "ORDER BY Month DESC;"
      ],
      "metadata": {
        "colab": {
          "base_uri": "https://localhost:8080/",
          "height": 203
        },
        "id": "Q_YcdtspKfzj",
        "outputId": "4b114e06-4408-4296-a580-d9bc129c4e56"
      },
      "execution_count": 14,
      "outputs": [
        {
          "output_type": "stream",
          "name": "stdout",
          "text": [
            " * sqlite://\n",
            "Done.\n"
          ]
        },
        {
          "output_type": "execute_result",
          "data": {
            "text/plain": [
              "[('11',), ('10',), ('08',), ('06',), ('05',), ('01',)]"
            ],
            "text/html": [
              "<table>\n",
              "    <thead>\n",
              "        <tr>\n",
              "            <th>Month</th>\n",
              "        </tr>\n",
              "    </thead>\n",
              "    <tbody>\n",
              "        <tr>\n",
              "            <td>11</td>\n",
              "        </tr>\n",
              "        <tr>\n",
              "            <td>10</td>\n",
              "        </tr>\n",
              "        <tr>\n",
              "            <td>08</td>\n",
              "        </tr>\n",
              "        <tr>\n",
              "            <td>06</td>\n",
              "        </tr>\n",
              "        <tr>\n",
              "            <td>05</td>\n",
              "        </tr>\n",
              "        <tr>\n",
              "            <td>01</td>\n",
              "        </tr>\n",
              "    </tbody>\n",
              "</table>"
            ]
          },
          "metadata": {},
          "execution_count": 14
        }
      ]
    },
    {
      "cell_type": "markdown",
      "source": [
        "### **Percentage of Sold Properties and Net Income by Price Category**"
      ],
      "metadata": {
        "id": "divOcrzC_E5v"
      }
    },
    {
      "cell_type": "code",
      "source": [
        "%%sql\n",
        "SELECT\n",
        "    CASE\n",
        "        WHEN Price BETWEEN 0 AND 300000 THEN '1. Low'\n",
        "        WHEN Price BETWEEN 300001 AND 500000 THEN '2. Affordable'\n",
        "        WHEN Price BETWEEN 500001 AND 800000 THEN '3. Mid-Range'\n",
        "        WHEN Price > 800000 THEN '4. High'\n",
        "    END AS PriceCategory,\n",
        "    ROUND(AVG(Price),2) AS Average_Price,\n",
        "    ROUND(COUNT(CASE WHEN Status = 'Sold' THEN 1 END) * 100.0 / COUNT(*), 2) AS Sold_Percentage,\n",
        "    SUM(Price) - SUM(Amount) AS Total_Income\n",
        "FROM property AS p\n",
        "LEFT JOIN expense AS e ON p.PropertyID = e.PropertyID_Expense\n",
        "GROUP BY PriceCategory\n",
        "ORDER BY PriceCategory"
      ],
      "metadata": {
        "colab": {
          "base_uri": "https://localhost:8080/",
          "height": 161
        },
        "id": "ylBvwVUm_JCz",
        "outputId": "a5649ec4-c8e7-4638-c92e-f6416bda25a6"
      },
      "execution_count": 15,
      "outputs": [
        {
          "output_type": "stream",
          "name": "stdout",
          "text": [
            " * sqlite://\n",
            "Done.\n"
          ]
        },
        {
          "output_type": "execute_result",
          "data": {
            "text/plain": [
              "[('1. Low', 250000.0, 78.0, 4600000),\n",
              " ('2. Affordable', 450000.0, 69.57, 15400000),\n",
              " ('3. Mid-Range', 677777.78, 90.74, 27400000),\n",
              " ('4. High', 950000.0, 80.0, 40300000)]"
            ],
            "text/html": [
              "<table>\n",
              "    <thead>\n",
              "        <tr>\n",
              "            <th>PriceCategory</th>\n",
              "            <th>Average_Price</th>\n",
              "            <th>Sold_Percentage</th>\n",
              "            <th>Total_Income</th>\n",
              "        </tr>\n",
              "    </thead>\n",
              "    <tbody>\n",
              "        <tr>\n",
              "            <td>1. Low</td>\n",
              "            <td>250000.0</td>\n",
              "            <td>78.0</td>\n",
              "            <td>4600000</td>\n",
              "        </tr>\n",
              "        <tr>\n",
              "            <td>2. Affordable</td>\n",
              "            <td>450000.0</td>\n",
              "            <td>69.57</td>\n",
              "            <td>15400000</td>\n",
              "        </tr>\n",
              "        <tr>\n",
              "            <td>3. Mid-Range</td>\n",
              "            <td>677777.78</td>\n",
              "            <td>90.74</td>\n",
              "            <td>27400000</td>\n",
              "        </tr>\n",
              "        <tr>\n",
              "            <td>4. High</td>\n",
              "            <td>950000.0</td>\n",
              "            <td>80.0</td>\n",
              "            <td>40300000</td>\n",
              "        </tr>\n",
              "    </tbody>\n",
              "</table>"
            ]
          },
          "metadata": {},
          "execution_count": 15
        }
      ]
    },
    {
      "cell_type": "markdown",
      "source": [
        "The **Mid-Range** category has the highest demand with the largest sold percentage, while the High category leads in total income. This suggests a balanced portfolio should focus on increasing **\"Mid-Range\" **and **\"High\"** properties to maximize both sold percentage and revenue. The Affordable category, while lower in sold percentage, still provides significant income and may attract budget-conscious buyers."
      ],
      "metadata": {
        "id": "kJTnxAPn_eDY"
      }
    },
    {
      "cell_type": "code",
      "source": [],
      "metadata": {
        "id": "vbrCb-3yKt7-"
      },
      "execution_count": 15,
      "outputs": []
    },
    {
      "cell_type": "markdown",
      "source": [
        "### **Total Expenses by Property Type and Expense Category**"
      ],
      "metadata": {
        "id": "HgOtf6oQJbds"
      }
    },
    {
      "cell_type": "code",
      "source": [
        "%%sql\n",
        "SELECT\n",
        "  ExpenseType,\n",
        "  SUM(Amount) AS Expense\n",
        "FROM expense\n",
        "GROUP BY ExpenseType\n",
        "ORDER BY Expense"
      ],
      "metadata": {
        "colab": {
          "base_uri": "https://localhost:8080/",
          "height": 139
        },
        "id": "TGZA5zzQA6i9",
        "outputId": "81660769-9ec7-4975-da9f-363a45abf60d"
      },
      "execution_count": 16,
      "outputs": [
        {
          "output_type": "stream",
          "name": "stdout",
          "text": [
            " * sqlite://\n",
            "Done.\n"
          ]
        },
        {
          "output_type": "execute_result",
          "data": {
            "text/plain": [
              "[('Renovation', 6650000),\n",
              " ('Maintenance', 11450000),\n",
              " ('Property Taxes', 11500000)]"
            ],
            "text/html": [
              "<table>\n",
              "    <thead>\n",
              "        <tr>\n",
              "            <th>ExpenseType</th>\n",
              "            <th>Expense</th>\n",
              "        </tr>\n",
              "    </thead>\n",
              "    <tbody>\n",
              "        <tr>\n",
              "            <td>Renovation</td>\n",
              "            <td>6650000</td>\n",
              "        </tr>\n",
              "        <tr>\n",
              "            <td>Maintenance</td>\n",
              "            <td>11450000</td>\n",
              "        </tr>\n",
              "        <tr>\n",
              "            <td>Property Taxes</td>\n",
              "            <td>11500000</td>\n",
              "        </tr>\n",
              "    </tbody>\n",
              "</table>"
            ]
          },
          "metadata": {},
          "execution_count": 16
        }
      ]
    },
    {
      "cell_type": "code",
      "source": [
        "%%sql\n",
        "SELECT\n",
        "    pr.Type AS Property_Type,\n",
        "    SUM(CASE WHEN ExpenseType = 'Maintenance' THEN e.Amount END) AS Maintenance,\n",
        "    SUM(CASE WHEN ExpenseType = 'Property Taxes' THEN e.Amount END) AS PropTaxes,\n",
        "    SUM(CASE WHEN ExpenseType = 'Renovation' THEN e.Amount END) AS Renovation\n",
        "FROM expense e\n",
        "LEFT JOIN property pr ON e.PropertyID_Expense = pr.PropertyID\n",
        "GROUP BY pr.Type"
      ],
      "metadata": {
        "colab": {
          "base_uri": "https://localhost:8080/",
          "height": 161
        },
        "id": "1_DrN1M-IjzO",
        "outputId": "d4e29193-11f2-4a5a-8f92-daae6b217024"
      },
      "execution_count": 17,
      "outputs": [
        {
          "output_type": "stream",
          "name": "stdout",
          "text": [
            " * sqlite://\n",
            "Done.\n"
          ]
        },
        {
          "output_type": "execute_result",
          "data": {
            "text/plain": [
              "[('Apartment', 2400000, 3850000, 1700000),\n",
              " ('Condo', 3100000, 2300000, 1900000),\n",
              " ('Single Family', 3350000, 3450000, 1600000),\n",
              " ('Townhouse', 2600000, 1900000, 1450000)]"
            ],
            "text/html": [
              "<table>\n",
              "    <thead>\n",
              "        <tr>\n",
              "            <th>Property_Type</th>\n",
              "            <th>Maintenance</th>\n",
              "            <th>PropTaxes</th>\n",
              "            <th>Renovation</th>\n",
              "        </tr>\n",
              "    </thead>\n",
              "    <tbody>\n",
              "        <tr>\n",
              "            <td>Apartment</td>\n",
              "            <td>2400000</td>\n",
              "            <td>3850000</td>\n",
              "            <td>1700000</td>\n",
              "        </tr>\n",
              "        <tr>\n",
              "            <td>Condo</td>\n",
              "            <td>3100000</td>\n",
              "            <td>2300000</td>\n",
              "            <td>1900000</td>\n",
              "        </tr>\n",
              "        <tr>\n",
              "            <td>Single Family</td>\n",
              "            <td>3350000</td>\n",
              "            <td>3450000</td>\n",
              "            <td>1600000</td>\n",
              "        </tr>\n",
              "        <tr>\n",
              "            <td>Townhouse</td>\n",
              "            <td>2600000</td>\n",
              "            <td>1900000</td>\n",
              "            <td>1450000</td>\n",
              "        </tr>\n",
              "    </tbody>\n",
              "</table>"
            ]
          },
          "metadata": {},
          "execution_count": 17
        }
      ]
    }
  ]
}
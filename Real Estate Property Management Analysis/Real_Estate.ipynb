{
  "nbformat": 4,
  "nbformat_minor": 0,
  "metadata": {
    "colab": {
      "provenance": [],
      "collapsed_sections": [
        "eKrSgz_Gqvhu",
        "EyAKrW_MqW7J"
      ],
      "mount_file_id": "17D2OFLX3upo9df-nSkntmMEmZXLLteit",
      "authorship_tag": "ABX9TyMBN3/6JRc/hR3Zl/EAA+EM",
      "include_colab_link": true
    },
    "kernelspec": {
      "name": "python3",
      "display_name": "Python 3"
    },
    "language_info": {
      "name": "python"
    }
  },
  "cells": [
    {
      "cell_type": "markdown",
      "metadata": {
        "id": "view-in-github",
        "colab_type": "text"
      },
      "source": [
        "<a href=\"https://colab.research.google.com/github/erena29/Data-Analysis-SQL/blob/main/Real%20Estate%20Property%20Management%20Analysis/Real_Estate.ipynb\" target=\"_parent\"><img src=\"https://colab.research.google.com/assets/colab-badge.svg\" alt=\"Open In Colab\"/></a>"
      ]
    },
    {
      "cell_type": "markdown",
      "source": [
        "# **Property Management Data Analysis with SQL**"
      ],
      "metadata": {
        "id": "m0q5SXr_IJk2"
      }
    },
    {
      "cell_type": "markdown",
      "source": [
        "## Data Import and Database Setup"
      ],
      "metadata": {
        "id": "Z-CBSXR9I8Oo"
      }
    },
    {
      "cell_type": "code",
      "execution_count": 1,
      "metadata": {
        "id": "ox51ghhq9q6Q"
      },
      "outputs": [],
      "source": [
        "import pandas as pd\n",
        "import sqlite3"
      ]
    },
    {
      "cell_type": "code",
      "source": [
        "!pip install prettytable==3.6.0"
      ],
      "metadata": {
        "colab": {
          "base_uri": "https://localhost:8080/"
        },
        "id": "6kNJQWW4oZ0J",
        "outputId": "0831fe1d-b077-46bd-e970-db92a036d1d2"
      },
      "execution_count": 2,
      "outputs": [
        {
          "output_type": "stream",
          "name": "stdout",
          "text": [
            "Collecting prettytable==3.6.0\n",
            "  Downloading prettytable-3.6.0-py3-none-any.whl.metadata (25 kB)\n",
            "Requirement already satisfied: wcwidth in /usr/local/lib/python3.10/dist-packages (from prettytable==3.6.0) (0.2.13)\n",
            "Downloading prettytable-3.6.0-py3-none-any.whl (27 kB)\n",
            "Installing collected packages: prettytable\n",
            "  Attempting uninstall: prettytable\n",
            "    Found existing installation: prettytable 3.12.0\n",
            "    Uninstalling prettytable-3.12.0:\n",
            "      Successfully uninstalled prettytable-3.12.0\n",
            "Successfully installed prettytable-3.6.0\n"
          ]
        }
      ]
    },
    {
      "cell_type": "code",
      "source": [
        "# Load the SQL extension\n",
        "%load_ext sql\n",
        "\n",
        "# Create a SQLite database\n",
        "%sql sqlite://"
      ],
      "metadata": {
        "id": "KDjGygDNMShh"
      },
      "execution_count": 3,
      "outputs": []
    },
    {
      "cell_type": "code",
      "source": [
        "from google.colab import drive\n",
        "drive.mount('/content/drive')"
      ],
      "metadata": {
        "id": "7eQQj4WaisiW",
        "colab": {
          "base_uri": "https://localhost:8080/"
        },
        "outputId": "698f6ebb-80c6-4ef2-ebd7-de921066bc69"
      },
      "execution_count": 4,
      "outputs": [
        {
          "output_type": "stream",
          "name": "stdout",
          "text": [
            "Drive already mounted at /content/drive; to attempt to forcibly remount, call drive.mount(\"/content/drive\", force_remount=True).\n"
          ]
        }
      ]
    },
    {
      "cell_type": "code",
      "source": [
        "expense = pd.read_csv('/content/drive/MyDrive/Dataset/real_estate/Expense.csv')\n",
        "property = pd.read_csv('/content/drive/MyDrive/Dataset/real_estate/Property.csv')\n",
        "sales = pd.read_csv('/content/drive/MyDrive/Dataset/real_estate/Sales.csv')"
      ],
      "metadata": {
        "id": "ElJhBu_Yn1Rb"
      },
      "execution_count": 5,
      "outputs": []
    },
    {
      "cell_type": "code",
      "source": [
        "%sql drop table if exists exp, property, sales;\n",
        "# Persist the DataFrames as tables in SQLi\n",
        "%sql --persist expense\n",
        "%sql --persist property\n",
        "%sql --persist sales"
      ],
      "metadata": {
        "colab": {
          "base_uri": "https://localhost:8080/",
          "height": 0
        },
        "id": "feV15IGnT5so",
        "outputId": "4c3a57c1-54dd-4ad2-f5a2-2a158df52c68"
      },
      "execution_count": 6,
      "outputs": [
        {
          "output_type": "stream",
          "name": "stdout",
          "text": [
            " * sqlite://\n",
            "(sqlite3.OperationalError) near \",\": syntax error\n",
            "[SQL: drop table if exists exp, property, sales;]\n",
            "(Background on this error at: https://sqlalche.me/e/20/e3q8)\n",
            " * sqlite://\n",
            " * sqlite://\n",
            " * sqlite://\n"
          ]
        },
        {
          "output_type": "execute_result",
          "data": {
            "text/plain": [
              "'Persisted sales'"
            ],
            "application/vnd.google.colaboratory.intrinsic+json": {
              "type": "string"
            }
          },
          "metadata": {},
          "execution_count": 6
        }
      ]
    },
    {
      "cell_type": "markdown",
      "source": [
        "## Sample Data"
      ],
      "metadata": {
        "id": "snQUU_dgJEvZ"
      }
    },
    {
      "cell_type": "code",
      "source": [
        "%%sql\n",
        "SELECT * FROM sales LIMIT 5"
      ],
      "metadata": {
        "colab": {
          "base_uri": "https://localhost:8080/",
          "height": 182
        },
        "id": "ptMS36T3MzN9",
        "outputId": "5ba5c796-e35c-4ce0-e192-456a4dc33745"
      },
      "execution_count": null,
      "outputs": [
        {
          "output_type": "stream",
          "name": "stdout",
          "text": [
            " * sqlite://\n",
            "Done.\n"
          ]
        },
        {
          "output_type": "execute_result",
          "data": {
            "text/plain": [
              "[(0, 1, 1, '2023-07-14', 'Broker', 131, 'Paid'),\n",
              " (1, 2, 3, '2024-04-28', 'Direct', 198, 'Paid'),\n",
              " (2, 3, 4, '2022-01-05', 'Online', 123, 'Pending'),\n",
              " (3, 4, 5, '2022-02-04', 'Online', 198, 'Paid'),\n",
              " (4, 5, 6, '2022-06-17', 'Online', 198, 'Pending')]"
            ],
            "text/html": [
              "<table>\n",
              "    <thead>\n",
              "        <tr>\n",
              "            <th>index</th>\n",
              "            <th>SaleID</th>\n",
              "            <th>PropertyID_Sale</th>\n",
              "            <th>SaleDate</th>\n",
              "            <th>MeansofSales</th>\n",
              "            <th>ClientID</th>\n",
              "            <th>PaymentStatus</th>\n",
              "        </tr>\n",
              "    </thead>\n",
              "    <tbody>\n",
              "        <tr>\n",
              "            <td>0</td>\n",
              "            <td>1</td>\n",
              "            <td>1</td>\n",
              "            <td>2023-07-14</td>\n",
              "            <td>Broker</td>\n",
              "            <td>131</td>\n",
              "            <td>Paid</td>\n",
              "        </tr>\n",
              "        <tr>\n",
              "            <td>1</td>\n",
              "            <td>2</td>\n",
              "            <td>3</td>\n",
              "            <td>2024-04-28</td>\n",
              "            <td>Direct</td>\n",
              "            <td>198</td>\n",
              "            <td>Paid</td>\n",
              "        </tr>\n",
              "        <tr>\n",
              "            <td>2</td>\n",
              "            <td>3</td>\n",
              "            <td>4</td>\n",
              "            <td>2022-01-05</td>\n",
              "            <td>Online</td>\n",
              "            <td>123</td>\n",
              "            <td>Pending</td>\n",
              "        </tr>\n",
              "        <tr>\n",
              "            <td>3</td>\n",
              "            <td>4</td>\n",
              "            <td>5</td>\n",
              "            <td>2022-02-04</td>\n",
              "            <td>Online</td>\n",
              "            <td>198</td>\n",
              "            <td>Paid</td>\n",
              "        </tr>\n",
              "        <tr>\n",
              "            <td>4</td>\n",
              "            <td>5</td>\n",
              "            <td>6</td>\n",
              "            <td>2022-06-17</td>\n",
              "            <td>Online</td>\n",
              "            <td>198</td>\n",
              "            <td>Pending</td>\n",
              "        </tr>\n",
              "    </tbody>\n",
              "</table>"
            ]
          },
          "metadata": {},
          "execution_count": 7
        }
      ]
    },
    {
      "cell_type": "code",
      "source": [
        "%%sql\n",
        "SELECT * FROM property LIMIT 5;"
      ],
      "metadata": {
        "colab": {
          "base_uri": "https://localhost:8080/",
          "height": 182
        },
        "id": "sZC8ZvHfEulQ",
        "outputId": "14500402-4583-4b11-9358-54a2aae7e4a3"
      },
      "execution_count": null,
      "outputs": [
        {
          "output_type": "stream",
          "name": "stdout",
          "text": [
            " * sqlite://\n",
            "Done.\n"
          ]
        },
        {
          "output_type": "execute_result",
          "data": {
            "text/plain": [
              "[(0, 10, 'Townhouse', 1200, 200000, 'Sold'),\n",
              " (1, 128, 'Townhouse', 1800, 200000, 'Sold'),\n",
              " (2, 129, 'Condo', 2500, 800000, 'Sold'),\n",
              " (3, 185, 'Apartment', 1000, 1000000, 'Sold'),\n",
              " (4, 3, 'Townhouse', 750, 700000, 'Sold')]"
            ],
            "text/html": [
              "<table>\n",
              "    <thead>\n",
              "        <tr>\n",
              "            <th>index</th>\n",
              "            <th>PropertyID</th>\n",
              "            <th>Type</th>\n",
              "            <th>SquareFootage</th>\n",
              "            <th>Price</th>\n",
              "            <th>Status</th>\n",
              "        </tr>\n",
              "    </thead>\n",
              "    <tbody>\n",
              "        <tr>\n",
              "            <td>0</td>\n",
              "            <td>10</td>\n",
              "            <td>Townhouse</td>\n",
              "            <td>1200</td>\n",
              "            <td>200000</td>\n",
              "            <td>Sold</td>\n",
              "        </tr>\n",
              "        <tr>\n",
              "            <td>1</td>\n",
              "            <td>128</td>\n",
              "            <td>Townhouse</td>\n",
              "            <td>1800</td>\n",
              "            <td>200000</td>\n",
              "            <td>Sold</td>\n",
              "        </tr>\n",
              "        <tr>\n",
              "            <td>2</td>\n",
              "            <td>129</td>\n",
              "            <td>Condo</td>\n",
              "            <td>2500</td>\n",
              "            <td>800000</td>\n",
              "            <td>Sold</td>\n",
              "        </tr>\n",
              "        <tr>\n",
              "            <td>3</td>\n",
              "            <td>185</td>\n",
              "            <td>Apartment</td>\n",
              "            <td>1000</td>\n",
              "            <td>1000000</td>\n",
              "            <td>Sold</td>\n",
              "        </tr>\n",
              "        <tr>\n",
              "            <td>4</td>\n",
              "            <td>3</td>\n",
              "            <td>Townhouse</td>\n",
              "            <td>750</td>\n",
              "            <td>700000</td>\n",
              "            <td>Sold</td>\n",
              "        </tr>\n",
              "    </tbody>\n",
              "</table>"
            ]
          },
          "metadata": {},
          "execution_count": 7
        }
      ]
    },
    {
      "cell_type": "code",
      "source": [
        "%%sql\n",
        "SELECT * FROM expense LIMIT 5;"
      ],
      "metadata": {
        "colab": {
          "base_uri": "https://localhost:8080/",
          "height": 182
        },
        "id": "xtvDuvW4Exhi",
        "outputId": "e720943d-f224-46ab-95c9-f9846519acbd"
      },
      "execution_count": null,
      "outputs": [
        {
          "output_type": "stream",
          "name": "stdout",
          "text": [
            " * sqlite://\n",
            "Done.\n"
          ]
        },
        {
          "output_type": "execute_result",
          "data": {
            "text/plain": [
              "[(0, 1, 1, 'Maintenance', 100000),\n",
              " (1, 2, 3, 'Maintenance', 300000),\n",
              " (2, 3, 4, 'Maintenance', 250000),\n",
              " (3, 4, 5, 'Renovation', 50000),\n",
              " (4, 5, 6, 'Maintenance', 250000)]"
            ],
            "text/html": [
              "<table>\n",
              "    <thead>\n",
              "        <tr>\n",
              "            <th>index</th>\n",
              "            <th>ExpenseID</th>\n",
              "            <th>PropertyID_Expense</th>\n",
              "            <th>ExpenseType</th>\n",
              "            <th>Amount</th>\n",
              "        </tr>\n",
              "    </thead>\n",
              "    <tbody>\n",
              "        <tr>\n",
              "            <td>0</td>\n",
              "            <td>1</td>\n",
              "            <td>1</td>\n",
              "            <td>Maintenance</td>\n",
              "            <td>100000</td>\n",
              "        </tr>\n",
              "        <tr>\n",
              "            <td>1</td>\n",
              "            <td>2</td>\n",
              "            <td>3</td>\n",
              "            <td>Maintenance</td>\n",
              "            <td>300000</td>\n",
              "        </tr>\n",
              "        <tr>\n",
              "            <td>2</td>\n",
              "            <td>3</td>\n",
              "            <td>4</td>\n",
              "            <td>Maintenance</td>\n",
              "            <td>250000</td>\n",
              "        </tr>\n",
              "        <tr>\n",
              "            <td>3</td>\n",
              "            <td>4</td>\n",
              "            <td>5</td>\n",
              "            <td>Renovation</td>\n",
              "            <td>50000</td>\n",
              "        </tr>\n",
              "        <tr>\n",
              "            <td>4</td>\n",
              "            <td>5</td>\n",
              "            <td>6</td>\n",
              "            <td>Maintenance</td>\n",
              "            <td>250000</td>\n",
              "        </tr>\n",
              "    </tbody>\n",
              "</table>"
            ]
          },
          "metadata": {},
          "execution_count": 8
        }
      ]
    },
    {
      "cell_type": "markdown",
      "source": [
        "## SQL Analysis"
      ],
      "metadata": {
        "id": "Gx1Tvi6XJVC0"
      }
    },
    {
      "cell_type": "markdown",
      "source": [
        "### **1. Yearly Financial Overview and Property Sales**\n",
        "\n"
      ],
      "metadata": {
        "id": "eKrSgz_Gqvhu"
      }
    },
    {
      "cell_type": "code",
      "source": [
        "%%sql\n",
        "SELECT\n",
        "  strftime('%Y', SaleDate) AS Year, --mysql: EXTRACT(YEAR FROM s.SaleDate)\n",
        "  SUM(Amount) AS Total_Expense,\n",
        "  SUM(Price) - SUM(Amount) AS Total_Income,\n",
        "  COUNT(*) AS Properties_Sold\n",
        "FROM sales AS s\n",
        "LEFT JOIN property AS p ON s.PropertyID_Sale = p.PropertyID\n",
        "LEFT JOIN expense AS e ON s.PropertyID_Sale = e.PropertyID_Expense\n",
        "GROUP BY Year\n",
        "ORDER BY Year;"
      ],
      "metadata": {
        "colab": {
          "base_uri": "https://localhost:8080/",
          "height": 139
        },
        "id": "0ySWWT02XWZT",
        "outputId": "2500c4bc-23d9-4e66-f283-dec0e9d32f6c"
      },
      "execution_count": 7,
      "outputs": [
        {
          "output_type": "stream",
          "name": "stdout",
          "text": [
            " * sqlite://\n",
            "Done.\n"
          ]
        },
        {
          "output_type": "execute_result",
          "data": {
            "text/plain": [
              "[('2022', 10350000, 19550000, 56),\n",
              " ('2023', 10550000, 30250000, 60),\n",
              " ('2024', 8700000, 16800000, 44)]"
            ],
            "text/html": [
              "<table>\n",
              "    <thead>\n",
              "        <tr>\n",
              "            <th>Year</th>\n",
              "            <th>Total_Expense</th>\n",
              "            <th>Total_Income</th>\n",
              "            <th>Properties_Sold</th>\n",
              "        </tr>\n",
              "    </thead>\n",
              "    <tbody>\n",
              "        <tr>\n",
              "            <td>2022</td>\n",
              "            <td>10350000</td>\n",
              "            <td>19550000</td>\n",
              "            <td>56</td>\n",
              "        </tr>\n",
              "        <tr>\n",
              "            <td>2023</td>\n",
              "            <td>10550000</td>\n",
              "            <td>30250000</td>\n",
              "            <td>60</td>\n",
              "        </tr>\n",
              "        <tr>\n",
              "            <td>2024</td>\n",
              "            <td>8700000</td>\n",
              "            <td>16800000</td>\n",
              "            <td>44</td>\n",
              "        </tr>\n",
              "    </tbody>\n",
              "</table>"
            ]
          },
          "metadata": {},
          "execution_count": 7
        }
      ]
    },
    {
      "cell_type": "markdown",
      "source": [
        "The financial overview shows a **significant increase in total income and properties sold from 2022 to 2023**, while total expenses remained relatively stable. However, in 2024, the data is incomplete, and the decrease in income and properties sold may indicate lower values due to missing data from several months."
      ],
      "metadata": {
        "id": "H1ucNL_zN7xf"
      }
    },
    {
      "cell_type": "markdown",
      "source": [
        "### **2. Months with Repeated Top 3 Revenue for Each Year**\n",
        "Identifies the months that appear more than once in the top 3 revenue  months each year. It helps uncover patterns of consistent high revenue months, providing insights into recurring trends that can guide future sales strategies and planning."
      ],
      "metadata": {
        "id": "EyAKrW_MqW7J"
      }
    },
    {
      "cell_type": "code",
      "source": [
        "%%sql\n",
        "-- Aggregate Monthly Revenue by Year and Month\n",
        "WITH MonthlyRevenue AS (\n",
        "  SELECT\n",
        "    strftime('%Y', SaleDate) AS Year,\n",
        "    strftime('%m', SaleDate) AS Month,\n",
        "    SUM(Price) AS Revenue\n",
        "  FROM sales AS s\n",
        "  LEFT JOIN property AS p\n",
        "    ON s.PropertyID_Sale = p.PropertyID\n",
        "  GROUP BY Year, Month\n",
        ")\n",
        "\n",
        "SELECT\n",
        "  Month\n",
        "FROM (\n",
        "  -- Rank months within each year by revenue\n",
        "  SELECT\n",
        "    Year,\n",
        "    Month,\n",
        "    Revenue,\n",
        "    ROW_NUMBER() OVER (PARTITION BY Year ORDER BY Revenue DESC) AS Rank\n",
        "  FROM MonthlyRevenue\n",
        ")\n",
        "WHERE Rank <= 3\n",
        "GROUP BY Month\n",
        "HAVING COUNT(Month) > 1\n",
        "ORDER BY Month;"
      ],
      "metadata": {
        "colab": {
          "base_uri": "https://localhost:8080/",
          "height": 118
        },
        "id": "pCk0trPMnQXj",
        "outputId": "cd741e19-9342-4e29-b892-faae0f545bf0"
      },
      "execution_count": 8,
      "outputs": [
        {
          "output_type": "stream",
          "name": "stdout",
          "text": [
            " * sqlite://\n",
            "Done.\n"
          ]
        },
        {
          "output_type": "execute_result",
          "data": {
            "text/plain": [
              "[('04',), ('07',)]"
            ],
            "text/html": [
              "<table>\n",
              "    <thead>\n",
              "        <tr>\n",
              "            <th>Month</th>\n",
              "        </tr>\n",
              "    </thead>\n",
              "    <tbody>\n",
              "        <tr>\n",
              "            <td>04</td>\n",
              "        </tr>\n",
              "        <tr>\n",
              "            <td>07</td>\n",
              "        </tr>\n",
              "    </tbody>\n",
              "</table>"
            ]
          },
          "metadata": {},
          "execution_count": 8
        }
      ]
    },
    {
      "cell_type": "markdown",
      "source": [
        "`July` and `April` are the months with repeated appearances in the top 3 revenue rankings for each year, indicating that these months consistently perform well in terms of sales. To maximize this trend, consider **focusing marketing efforts and special promotions** in these months to sustain or further enhance revenue."
      ],
      "metadata": {
        "id": "XCvhBD8WOmcP"
      }
    },
    {
      "cell_type": "markdown",
      "source": [
        "### **3. Months with Repeated Revenue Below the Yearly Average**\n",
        "Identifies the months that appear more than once with revenue consistently below the yearly average."
      ],
      "metadata": {
        "id": "HbnKviQNP2On"
      }
    },
    {
      "cell_type": "code",
      "source": [
        "%%sql\n",
        "-- Calculate the Average Yearly Revenue for each year\n",
        "WITH avg_year AS (\n",
        "  SELECT\n",
        "    Year,\n",
        "    ROUND(AVG(Monthly_Revenue), 2) AS Avg_Yearly_Revenue\n",
        "  FROM (\n",
        "    SELECT\n",
        "      strftime('%Y', SaleDate) AS Year,\n",
        "      strftime('%m', SaleDate) AS Month,\n",
        "      SUM(Price) AS Monthly_Revenue\n",
        "    FROM sales AS s\n",
        "    LEFT JOIN property AS p\n",
        "      ON s.PropertyID_Sale = p.PropertyID\n",
        "    GROUP BY Year, Month\n",
        "  ) AS Monthly_Revenues\n",
        "  GROUP BY Year\n",
        "  ORDER BY Year\n",
        ")\n",
        "--Filter the months where revenue is below the yearly average\n",
        ", filtered_months AS(\n",
        "  SELECT\n",
        "    strftime('%Y', SaleDate) AS Year,\n",
        "    strftime('%m', SaleDate) AS Month,\n",
        "    SUM(Price) AS Revenue\n",
        "  FROM sales AS s\n",
        "  LEFT JOIN property AS p\n",
        "    ON s.PropertyID_Sale = p.PropertyID\n",
        "  JOIN avg_year AS avg\n",
        "    ON strftime('%Y', SaleDate) = avg.Year\n",
        "  GROUP BY Year, Month, avg.Avg_Yearly_Revenue\n",
        "  HAVING SUM(p.Price) < avg.Avg_Yearly_Revenue\n",
        "  ORDER BY Month DESC\n",
        ")\n",
        "--Select months that appear more than once\n",
        "SELECT Month\n",
        "FROM filtered_months\n",
        "GROUP BY Month\n",
        "HAVING COUNT(Month) > 1\n",
        "ORDER BY Month;"
      ],
      "metadata": {
        "colab": {
          "base_uri": "https://localhost:8080/",
          "height": 203
        },
        "id": "Q_YcdtspKfzj",
        "outputId": "4fad0298-ab9b-4ff0-e654-816f907a8ae6"
      },
      "execution_count": 9,
      "outputs": [
        {
          "output_type": "stream",
          "name": "stdout",
          "text": [
            " * sqlite://\n",
            "Done.\n"
          ]
        },
        {
          "output_type": "execute_result",
          "data": {
            "text/plain": [
              "[('01',), ('05',), ('06',), ('08',), ('10',), ('11',)]"
            ],
            "text/html": [
              "<table>\n",
              "    <thead>\n",
              "        <tr>\n",
              "            <th>Month</th>\n",
              "        </tr>\n",
              "    </thead>\n",
              "    <tbody>\n",
              "        <tr>\n",
              "            <td>01</td>\n",
              "        </tr>\n",
              "        <tr>\n",
              "            <td>05</td>\n",
              "        </tr>\n",
              "        <tr>\n",
              "            <td>06</td>\n",
              "        </tr>\n",
              "        <tr>\n",
              "            <td>08</td>\n",
              "        </tr>\n",
              "        <tr>\n",
              "            <td>10</td>\n",
              "        </tr>\n",
              "        <tr>\n",
              "            <td>11</td>\n",
              "        </tr>\n",
              "    </tbody>\n",
              "</table>"
            ]
          },
          "metadata": {},
          "execution_count": 9
        }
      ]
    },
    {
      "cell_type": "markdown",
      "source": [
        "The analysis shows that months such as `January`, `May`, `June`, `August`, `October`, and `November` consistently generate revenue below the yearly average, indicating periods of weaker performance. It is recommended to **investigate external factors impacting sales** during these months to develop targeted strategies for improvement."
      ],
      "metadata": {
        "id": "94F55fjVO-pe"
      }
    },
    {
      "cell_type": "markdown",
      "source": [
        "### **4. Revenue by Property Type and Year**"
      ],
      "metadata": {
        "id": "UFAYLB-zyd0R"
      }
    },
    {
      "cell_type": "code",
      "source": [
        "%%sql\n",
        "SELECT\n",
        "  Type AS Property_Type,\n",
        "  SUM(CASE WHEN strftime('%Y', SaleDate) = '2022' THEN p.Price ELSE 0 END) AS Revenue_2022,\n",
        "  SUM(CASE WHEN strftime('%Y', SaleDate) = '2023' THEN p.Price ELSE 0 END) AS Revenue_2023,\n",
        "  SUM(CASE WHEN strftime('%Y', SaleDate) = '2024' THEN p.Price ELSE 0 END) AS Revenue_2024,\n",
        "  SUM(Price) AS Total_Revenue\n",
        "FROM sales AS s\n",
        "LEFT JOIN property AS p\n",
        "  ON s.PropertyID_Sale = p.PropertyID\n",
        "GROUP BY Property_Type\n",
        "ORDER BY Total_Revenue DESC;"
      ],
      "metadata": {
        "colab": {
          "base_uri": "https://localhost:8080/",
          "height": 161
        },
        "id": "sLCcbs0-xUap",
        "outputId": "f4475828-5d30-4ab3-9fd8-2dcb5d232f0a"
      },
      "execution_count": 11,
      "outputs": [
        {
          "output_type": "stream",
          "name": "stdout",
          "text": [
            " * sqlite://\n",
            "Done.\n"
          ]
        },
        {
          "output_type": "execute_result",
          "data": {
            "text/plain": [
              "[('Condo', 6500000, 16800000, 7500000, 30800000),\n",
              " ('Single Family', 9900000, 7800000, 7300000, 25000000),\n",
              " ('Apartment', 7400000, 8900000, 6900000, 23200000),\n",
              " ('Townhouse', 6100000, 7300000, 3800000, 17200000)]"
            ],
            "text/html": [
              "<table>\n",
              "    <thead>\n",
              "        <tr>\n",
              "            <th>Property_Type</th>\n",
              "            <th>Revenue_2022</th>\n",
              "            <th>Revenue_2023</th>\n",
              "            <th>Revenue_2024</th>\n",
              "            <th>Total_Revenue</th>\n",
              "        </tr>\n",
              "    </thead>\n",
              "    <tbody>\n",
              "        <tr>\n",
              "            <td>Condo</td>\n",
              "            <td>6500000</td>\n",
              "            <td>16800000</td>\n",
              "            <td>7500000</td>\n",
              "            <td>30800000</td>\n",
              "        </tr>\n",
              "        <tr>\n",
              "            <td>Single Family</td>\n",
              "            <td>9900000</td>\n",
              "            <td>7800000</td>\n",
              "            <td>7300000</td>\n",
              "            <td>25000000</td>\n",
              "        </tr>\n",
              "        <tr>\n",
              "            <td>Apartment</td>\n",
              "            <td>7400000</td>\n",
              "            <td>8900000</td>\n",
              "            <td>6900000</td>\n",
              "            <td>23200000</td>\n",
              "        </tr>\n",
              "        <tr>\n",
              "            <td>Townhouse</td>\n",
              "            <td>6100000</td>\n",
              "            <td>7300000</td>\n",
              "            <td>3800000</td>\n",
              "            <td>17200000</td>\n",
              "        </tr>\n",
              "    </tbody>\n",
              "</table>"
            ]
          },
          "metadata": {},
          "execution_count": 11
        }
      ]
    },
    {
      "cell_type": "markdown",
      "source": [
        "`Condos` generated **the highest total revenue** over the years, with a significant increase in 2023, while `Townhouses` experienced **the lowest total revenue**, particularly in 2024. To optimize revenue, focus on increasing sales efforts for townhouses and consider strategic marketing for condos, given their strong performance."
      ],
      "metadata": {
        "id": "Z2FtFmv3PlkA"
      }
    },
    {
      "cell_type": "markdown",
      "source": [
        "### **5. Percentage of Sold Properties and Net Income by Price Category**"
      ],
      "metadata": {
        "id": "divOcrzC_E5v"
      }
    },
    {
      "cell_type": "code",
      "source": [
        "%%sql\n",
        "SELECT\n",
        "    CASE\n",
        "        WHEN Price BETWEEN 0 AND 300000 THEN '1. Low'\n",
        "        WHEN Price BETWEEN 300001 AND 500000 THEN '2. Affordable'\n",
        "        WHEN Price BETWEEN 500001 AND 800000 THEN '3. Mid-Range'\n",
        "        WHEN Price > 800000 THEN '4. High'\n",
        "    END AS PriceCategory,\n",
        "    ROUND(AVG(Price),2) AS Average_Price,\n",
        "    ROUND(COUNT(CASE WHEN Status = 'Sold' THEN 1 END) * 100.0 / COUNT(*), 2) AS Sold_Percentage,\n",
        "    SUM(Price) - SUM(Amount) AS Total_Income\n",
        "FROM property AS p\n",
        "LEFT JOIN expense AS e ON p.PropertyID = e.PropertyID_Expense\n",
        "GROUP BY PriceCategory\n",
        "ORDER BY PriceCategory"
      ],
      "metadata": {
        "colab": {
          "base_uri": "https://localhost:8080/",
          "height": 161
        },
        "id": "ylBvwVUm_JCz",
        "outputId": "6d6a53c9-8da4-4b62-9641-297dd29f6522"
      },
      "execution_count": 12,
      "outputs": [
        {
          "output_type": "stream",
          "name": "stdout",
          "text": [
            " * sqlite://\n",
            "Done.\n"
          ]
        },
        {
          "output_type": "execute_result",
          "data": {
            "text/plain": [
              "[('1. Low', 250000.0, 78.0, 4600000),\n",
              " ('2. Affordable', 450000.0, 69.57, 15400000),\n",
              " ('3. Mid-Range', 677777.78, 90.74, 27400000),\n",
              " ('4. High', 950000.0, 80.0, 40300000)]"
            ],
            "text/html": [
              "<table>\n",
              "    <thead>\n",
              "        <tr>\n",
              "            <th>PriceCategory</th>\n",
              "            <th>Average_Price</th>\n",
              "            <th>Sold_Percentage</th>\n",
              "            <th>Total_Income</th>\n",
              "        </tr>\n",
              "    </thead>\n",
              "    <tbody>\n",
              "        <tr>\n",
              "            <td>1. Low</td>\n",
              "            <td>250000.0</td>\n",
              "            <td>78.0</td>\n",
              "            <td>4600000</td>\n",
              "        </tr>\n",
              "        <tr>\n",
              "            <td>2. Affordable</td>\n",
              "            <td>450000.0</td>\n",
              "            <td>69.57</td>\n",
              "            <td>15400000</td>\n",
              "        </tr>\n",
              "        <tr>\n",
              "            <td>3. Mid-Range</td>\n",
              "            <td>677777.78</td>\n",
              "            <td>90.74</td>\n",
              "            <td>27400000</td>\n",
              "        </tr>\n",
              "        <tr>\n",
              "            <td>4. High</td>\n",
              "            <td>950000.0</td>\n",
              "            <td>80.0</td>\n",
              "            <td>40300000</td>\n",
              "        </tr>\n",
              "    </tbody>\n",
              "</table>"
            ]
          },
          "metadata": {},
          "execution_count": 12
        }
      ]
    },
    {
      "cell_type": "markdown",
      "source": [
        "The `Mid-Range` category has **the highest demand** with the largest sold percentage, while the `High` category **leads in total income**. This suggests a balanced portfolio should **focus on increasing** `Mid-Range` and `High` properties to maximize both sold percentage and revenue. The `Affordable` category, while lower in sold percentage, **still provides significant income** and may attract budget-conscious buyers."
      ],
      "metadata": {
        "id": "kJTnxAPn_eDY"
      }
    },
    {
      "cell_type": "markdown",
      "source": [
        "### **6. Frequency of Sales by Means of Sale**"
      ],
      "metadata": {
        "id": "aV6YgroxvCOZ"
      }
    },
    {
      "cell_type": "code",
      "source": [
        "%%sql\n",
        "SELECT\n",
        "  MeansofSales,\n",
        "  COUNT(MeansofSales) AS Count\n",
        "FROM sales\n",
        "GROUP BY MeansofSales"
      ],
      "metadata": {
        "colab": {
          "base_uri": "https://localhost:8080/",
          "height": 139
        },
        "id": "V4UYGWTCvDvT",
        "outputId": "4ed258f7-d336-4fd1-dc1e-ae677362bb9a"
      },
      "execution_count": null,
      "outputs": [
        {
          "output_type": "stream",
          "name": "stdout",
          "text": [
            " * sqlite://\n",
            "Done.\n"
          ]
        },
        {
          "output_type": "execute_result",
          "data": {
            "text/plain": [
              "[('Broker', 61), ('Direct', 45), ('Online', 54)]"
            ],
            "text/html": [
              "<table>\n",
              "    <thead>\n",
              "        <tr>\n",
              "            <th>MeansofSales</th>\n",
              "            <th>Count</th>\n",
              "        </tr>\n",
              "    </thead>\n",
              "    <tbody>\n",
              "        <tr>\n",
              "            <td>Broker</td>\n",
              "            <td>61</td>\n",
              "        </tr>\n",
              "        <tr>\n",
              "            <td>Direct</td>\n",
              "            <td>45</td>\n",
              "        </tr>\n",
              "        <tr>\n",
              "            <td>Online</td>\n",
              "            <td>54</td>\n",
              "        </tr>\n",
              "    </tbody>\n",
              "</table>"
            ]
          },
          "metadata": {},
          "execution_count": 21
        }
      ]
    },
    {
      "cell_type": "markdown",
      "source": [
        "`Broker` sales had the **highest frequency**, followed by `Online` sales, with direct sales being the least frequent. To boost overall sales, **consider enhancing** `Online` and `Direct` sales channels, especially since they have room for growth compared to `Broker` sales."
      ],
      "metadata": {
        "id": "ldTFkS2jRhcP"
      }
    },
    {
      "cell_type": "markdown",
      "source": [
        "### **7. Comparison of Payment Status by Means of Sale**"
      ],
      "metadata": {
        "id": "g-esSMJ4GOPq"
      }
    },
    {
      "cell_type": "code",
      "source": [
        "%%sql\n",
        "SELECT\n",
        "    MeansofSales,\n",
        "    COUNT(CASE WHEN PaymentStatus = 'Paid' THEN 1 END) AS Paid_Count,\n",
        "    COUNT(CASE WHEN PaymentStatus = 'Pending' THEN 1 END) AS Pending_Count,\n",
        "    ROUND(\n",
        "        (COUNT(CASE WHEN PaymentStatus = 'Paid' THEN 1 END) * 100.0) / COUNT(*),\n",
        "        2\n",
        "    ) AS Paid_Percentage\n",
        "FROM sales\n",
        "GROUP BY MeansofSales\n",
        "ORDER BY MeansofSales;"
      ],
      "metadata": {
        "colab": {
          "base_uri": "https://localhost:8080/",
          "height": 139
        },
        "id": "DA4ocqdSGNfd",
        "outputId": "8ab06140-7ef5-4208-85d3-78fa1c08b9a6"
      },
      "execution_count": null,
      "outputs": [
        {
          "output_type": "stream",
          "name": "stdout",
          "text": [
            " * sqlite://\n",
            "Done.\n"
          ]
        },
        {
          "output_type": "execute_result",
          "data": {
            "text/plain": [
              "[('Broker', 23, 38, 37.7),\n",
              " ('Direct', 17, 28, 37.78),\n",
              " ('Online', 24, 30, 44.44)]"
            ],
            "text/html": [
              "<table>\n",
              "    <thead>\n",
              "        <tr>\n",
              "            <th>MeansofSales</th>\n",
              "            <th>Paid_Count</th>\n",
              "            <th>Pending_Count</th>\n",
              "            <th>Paid_Percentage</th>\n",
              "        </tr>\n",
              "    </thead>\n",
              "    <tbody>\n",
              "        <tr>\n",
              "            <td>Broker</td>\n",
              "            <td>23</td>\n",
              "            <td>38</td>\n",
              "            <td>37.7</td>\n",
              "        </tr>\n",
              "        <tr>\n",
              "            <td>Direct</td>\n",
              "            <td>17</td>\n",
              "            <td>28</td>\n",
              "            <td>37.78</td>\n",
              "        </tr>\n",
              "        <tr>\n",
              "            <td>Online</td>\n",
              "            <td>24</td>\n",
              "            <td>30</td>\n",
              "            <td>44.44</td>\n",
              "        </tr>\n",
              "    </tbody>\n",
              "</table>"
            ]
          },
          "metadata": {},
          "execution_count": 22
        }
      ]
    },
    {
      "cell_type": "markdown",
      "source": [
        "`Online` sales show **the highest percentage of paid transactions** at 44.44%, while `Broker` and `Direct` sales have similar paid percentages around 37.7% and 37.78%, respectively. To improve payment rates, **focusing on enhancing the payment collection process** for `Broker` and `Direct` sales could help achieve more consistent paid transactions. This can be achieved by implementing automated payment reminders, offering flexible payment options (such as installments or early-bird discounts), and establishing clearer communication regarding payment deadlines and consequences for late payments."
      ],
      "metadata": {
        "id": "n4N7W8W7SJSy"
      }
    },
    {
      "cell_type": "markdown",
      "source": [
        "### **8. Total Expenses by Property Type and Expense Category**"
      ],
      "metadata": {
        "id": "HgOtf6oQJbds"
      }
    },
    {
      "cell_type": "code",
      "source": [
        "%%sql\n",
        "SELECT\n",
        "    Type AS Property_Type,\n",
        "    SUM(CASE WHEN ExpenseType = 'Maintenance' THEN Amount END) AS Maintenance,\n",
        "    SUM(CASE WHEN ExpenseType = 'Property Taxes' THEN Amount END) AS PropTaxes,\n",
        "    SUM(CASE WHEN ExpenseType = 'Renovation' THEN Amount END) AS Renovation\n",
        "FROM expense e\n",
        "LEFT JOIN property p ON e.PropertyID_Expense = p.PropertyID\n",
        "GROUP BY Property_Type"
      ],
      "metadata": {
        "colab": {
          "base_uri": "https://localhost:8080/",
          "height": 161
        },
        "id": "1_DrN1M-IjzO",
        "outputId": "183f9ecd-8454-4bf1-873a-4cada65db8df"
      },
      "execution_count": 14,
      "outputs": [
        {
          "output_type": "stream",
          "name": "stdout",
          "text": [
            " * sqlite://\n",
            "Done.\n"
          ]
        },
        {
          "output_type": "execute_result",
          "data": {
            "text/plain": [
              "[('Apartment', 2400000, 3850000, 1700000),\n",
              " ('Condo', 3100000, 2300000, 1900000),\n",
              " ('Single Family', 3350000, 3450000, 1600000),\n",
              " ('Townhouse', 2600000, 1900000, 1450000)]"
            ],
            "text/html": [
              "<table>\n",
              "    <thead>\n",
              "        <tr>\n",
              "            <th>Property_Type</th>\n",
              "            <th>Maintenance</th>\n",
              "            <th>PropTaxes</th>\n",
              "            <th>Renovation</th>\n",
              "        </tr>\n",
              "    </thead>\n",
              "    <tbody>\n",
              "        <tr>\n",
              "            <td>Apartment</td>\n",
              "            <td>2400000</td>\n",
              "            <td>3850000</td>\n",
              "            <td>1700000</td>\n",
              "        </tr>\n",
              "        <tr>\n",
              "            <td>Condo</td>\n",
              "            <td>3100000</td>\n",
              "            <td>2300000</td>\n",
              "            <td>1900000</td>\n",
              "        </tr>\n",
              "        <tr>\n",
              "            <td>Single Family</td>\n",
              "            <td>3350000</td>\n",
              "            <td>3450000</td>\n",
              "            <td>1600000</td>\n",
              "        </tr>\n",
              "        <tr>\n",
              "            <td>Townhouse</td>\n",
              "            <td>2600000</td>\n",
              "            <td>1900000</td>\n",
              "            <td>1450000</td>\n",
              "        </tr>\n",
              "    </tbody>\n",
              "</table>"
            ]
          },
          "metadata": {},
          "execution_count": 14
        }
      ]
    },
    {
      "cell_type": "markdown",
      "source": [
        "`Single Family` properties have **the highest total expenses** in the `Maintenance` and `Property Tax` categories, while `Condos` incur **the highest renovation costs**. Overall, `Maintenance` is **the largest expense** category across all property types, followed by `Property taxes` and then `Renovations`. To optimize expenses, it is recommended to focus on reducing maintenance costs for `Single Family` properties and `Condos`, as well as controlling `Property Tax` expenses across all property types. This approach could lead to significant cost efficiencies across expense categories."
      ],
      "metadata": {
        "id": "25iq9eurTlR1"
      }
    }
  ]
}
{
  "nbformat": 4,
  "nbformat_minor": 0,
  "metadata": {
    "colab": {
      "provenance": [],
      "collapsed_sections": [
        "Z-CBSXR9I8Oo",
        "4gofRnWHZCG-",
        "-gi14SyqW7TP",
        "zBZ0XCadbh3Y",
        "_hctNQZzdA4G",
        "ULtXZKyEfzmm",
        "5nTCVLeSgISc",
        "8MoHlvn6g76i",
        "iSgyovkVhS0y"
      ],
      "mount_file_id": "1fkgAOePFdsuxrAsq_p4X6YI1iPy9Gg0U",
      "authorship_tag": "ABX9TyN5q1jNYEWqhJmMgDZr8CoT",
      "include_colab_link": true
    },
    "kernelspec": {
      "name": "python3",
      "display_name": "Python 3"
    },
    "language_info": {
      "name": "python"
    }
  },
  "cells": [
    {
      "cell_type": "markdown",
      "metadata": {
        "id": "view-in-github",
        "colab_type": "text"
      },
      "source": [
        "<a href=\"https://colab.research.google.com/github/erena29/Data-Analysis-SQL/blob/main/Supermarket%20Sales/Supermarket_Sales.ipynb\" target=\"_parent\"><img src=\"https://colab.research.google.com/assets/colab-badge.svg\" alt=\"Open In Colab\"/></a>"
      ]
    },
    {
      "cell_type": "markdown",
      "source": [
        "# **Supermarket Sales Data Analysis with SQL**"
      ],
      "metadata": {
        "id": "m0q5SXr_IJk2"
      }
    },
    {
      "cell_type": "markdown",
      "source": [
        "## Data Import and Database Setup"
      ],
      "metadata": {
        "id": "Z-CBSXR9I8Oo"
      }
    },
    {
      "cell_type": "code",
      "execution_count": null,
      "metadata": {
        "id": "ox51ghhq9q6Q"
      },
      "outputs": [],
      "source": [
        "import pandas as pd\n",
        "import sqlite3"
      ]
    },
    {
      "cell_type": "code",
      "source": [
        "from google.colab import drive\n",
        "drive.mount('/content/drive')"
      ],
      "metadata": {
        "id": "7eQQj4WaisiW",
        "colab": {
          "base_uri": "https://localhost:8080/"
        },
        "outputId": "66fca7fe-8ca8-4dba-8501-b5c92e1ef4d7"
      },
      "execution_count": null,
      "outputs": [
        {
          "output_type": "stream",
          "name": "stdout",
          "text": [
            "Drive already mounted at /content/drive; to attempt to forcibly remount, call drive.mount(\"/content/drive\", force_remount=True).\n"
          ]
        }
      ]
    },
    {
      "cell_type": "code",
      "source": [
        "sales = pd.read_csv('/content/drive/MyDrive/Dataset/supermarket/sales.csv', encoding='latin-1')"
      ],
      "metadata": {
        "id": "ElJhBu_Yn1Rb"
      },
      "execution_count": null,
      "outputs": []
    },
    {
      "cell_type": "code",
      "source": [
        "print(sales[sales.duplicated])"
      ],
      "metadata": {
        "colab": {
          "base_uri": "https://localhost:8080/"
        },
        "id": "7f1gBpzNgo_W",
        "outputId": "9f32c41a-bcfd-4fbb-83bd-935bc42ef1eb"
      },
      "execution_count": null,
      "outputs": [
        {
          "output_type": "stream",
          "name": "stdout",
          "text": [
            "Empty DataFrame\n",
            "Columns: [Order_ID, Order_Date, Ship_Date, Segment, City, State, Product_ID, Category, Sub_Category, Product_Name, Price, Quantity, Profit, Returns, Payment_Mode]\n",
            "Index: []\n"
          ]
        }
      ]
    },
    {
      "cell_type": "code",
      "source": [
        "!pip install prettytable==3.6.0"
      ],
      "metadata": {
        "colab": {
          "base_uri": "https://localhost:8080/"
        },
        "id": "6kNJQWW4oZ0J",
        "outputId": "c799c020-e591-4035-ea0b-958cb486d900"
      },
      "execution_count": null,
      "outputs": [
        {
          "output_type": "stream",
          "name": "stdout",
          "text": [
            "Collecting prettytable==3.6.0\n",
            "  Downloading prettytable-3.6.0-py3-none-any.whl.metadata (25 kB)\n",
            "Requirement already satisfied: wcwidth in /usr/local/lib/python3.10/dist-packages (from prettytable==3.6.0) (0.2.13)\n",
            "Downloading prettytable-3.6.0-py3-none-any.whl (27 kB)\n",
            "Installing collected packages: prettytable\n",
            "  Attempting uninstall: prettytable\n",
            "    Found existing installation: prettytable 3.12.0\n",
            "    Uninstalling prettytable-3.12.0:\n",
            "      Successfully uninstalled prettytable-3.12.0\n",
            "Successfully installed prettytable-3.6.0\n"
          ]
        }
      ]
    },
    {
      "cell_type": "code",
      "source": [
        "# Load the SQL extension\n",
        "%load_ext sql\n",
        "\n",
        "# Create a SQLite database\n",
        "%sql sqlite://"
      ],
      "metadata": {
        "id": "KDjGygDNMShh"
      },
      "execution_count": null,
      "outputs": []
    },
    {
      "cell_type": "code",
      "source": [
        "%sql drop table if exists sales;\n",
        "# Persist the DataFrames as tables in SQLi\n",
        "%sql --persist sales"
      ],
      "metadata": {
        "colab": {
          "base_uri": "https://localhost:8080/"
        },
        "id": "feV15IGnT5so",
        "outputId": "95ef4ee6-4c1d-470c-ece7-9314268ee9dc"
      },
      "execution_count": null,
      "outputs": [
        {
          "output_type": "stream",
          "name": "stdout",
          "text": [
            " * sqlite://\n",
            "Done.\n",
            " * sqlite://\n"
          ]
        },
        {
          "output_type": "execute_result",
          "data": {
            "text/plain": [
              "'Persisted sales'"
            ],
            "application/vnd.google.colaboratory.intrinsic+json": {
              "type": "string"
            }
          },
          "metadata": {},
          "execution_count": 7
        }
      ]
    },
    {
      "cell_type": "markdown",
      "source": [
        "## Sample Data"
      ],
      "metadata": {
        "id": "snQUU_dgJEvZ"
      }
    },
    {
      "cell_type": "code",
      "source": [
        "%%sql\n",
        "SELECT * FROM sales LIMIT 5"
      ],
      "metadata": {
        "colab": {
          "base_uri": "https://localhost:8080/",
          "height": 262
        },
        "id": "ptMS36T3MzN9",
        "outputId": "c3f7f66f-1df1-4e5d-eacd-c63db2cc01ae"
      },
      "execution_count": null,
      "outputs": [
        {
          "output_type": "stream",
          "name": "stdout",
          "text": [
            " * sqlite://\n",
            "Done.\n"
          ]
        },
        {
          "output_type": "execute_result",
          "data": {
            "text/plain": [
              "[(0, 'CA-2019-160304', '2019-01-01', '2019-01-07', 'Corporate', 'Gaithersburg', 'Maryland', 'FUR-BO-10004709', 'Furniture', 'Bookcases', 'Bush Westfield Collection Bookcases, Medium Cherry Finish', 73.94, 1, 28.2668, 'No', 'Online'),\n",
              " (1, 'CA-2019-160304', '2019-01-02', '2019-01-07', 'Corporate', 'Gaithersburg', 'Maryland', 'FUR-BO-10004709', 'Furniture', 'Bookcases', 'Bush Westfield Collection Bookcases, Medium Cherry Finish', 173.94, 3, 38.2668, 'No', 'Online'),\n",
              " (2, 'CA-2019-160304', '2019-01-02', '2019-01-07', 'Corporate', 'Gaithersburg', 'Maryland', 'TEC-PH-10000455', 'Technology', 'Phones', 'GE 30522EE2', 231.98, 2, 67.2742, 'No', 'Cards'),\n",
              " (3, 'CA-2019-125206', '2019-01-03', '2019-01-05', 'Consumer', 'Los Angeles', 'California', 'OFF-ST-10003692', 'Office Supplies', 'Storage', 'Recycled Steel Personal File for Hanging File Folders', 114.46, 2, 28.615, 'No', 'Online'),\n",
              " (4, 'US-2019-116365', '2019-01-03', '2019-01-08', 'Corporate', 'San Antonio', 'Texas', 'TEC-AC-10002217', 'Technology', 'Accessories', 'Imation\\xa0Clip USB\\xa0flash drive\\xa0- 8 GB', 30.08, 2, -5.264, 'No', 'Online')]"
            ],
            "text/html": [
              "<table>\n",
              "    <thead>\n",
              "        <tr>\n",
              "            <th>index</th>\n",
              "            <th>Order_ID</th>\n",
              "            <th>Order_Date</th>\n",
              "            <th>Ship_Date</th>\n",
              "            <th>Segment</th>\n",
              "            <th>City</th>\n",
              "            <th>State</th>\n",
              "            <th>Product_ID</th>\n",
              "            <th>Category</th>\n",
              "            <th>Sub_Category</th>\n",
              "            <th>Product_Name</th>\n",
              "            <th>Price</th>\n",
              "            <th>Quantity</th>\n",
              "            <th>Profit</th>\n",
              "            <th>Returns</th>\n",
              "            <th>Payment_Mode</th>\n",
              "        </tr>\n",
              "    </thead>\n",
              "    <tbody>\n",
              "        <tr>\n",
              "            <td>0</td>\n",
              "            <td>CA-2019-160304</td>\n",
              "            <td>2019-01-01</td>\n",
              "            <td>2019-01-07</td>\n",
              "            <td>Corporate</td>\n",
              "            <td>Gaithersburg</td>\n",
              "            <td>Maryland</td>\n",
              "            <td>FUR-BO-10004709</td>\n",
              "            <td>Furniture</td>\n",
              "            <td>Bookcases</td>\n",
              "            <td>Bush Westfield Collection Bookcases, Medium Cherry Finish</td>\n",
              "            <td>73.94</td>\n",
              "            <td>1</td>\n",
              "            <td>28.2668</td>\n",
              "            <td>No</td>\n",
              "            <td>Online</td>\n",
              "        </tr>\n",
              "        <tr>\n",
              "            <td>1</td>\n",
              "            <td>CA-2019-160304</td>\n",
              "            <td>2019-01-02</td>\n",
              "            <td>2019-01-07</td>\n",
              "            <td>Corporate</td>\n",
              "            <td>Gaithersburg</td>\n",
              "            <td>Maryland</td>\n",
              "            <td>FUR-BO-10004709</td>\n",
              "            <td>Furniture</td>\n",
              "            <td>Bookcases</td>\n",
              "            <td>Bush Westfield Collection Bookcases, Medium Cherry Finish</td>\n",
              "            <td>173.94</td>\n",
              "            <td>3</td>\n",
              "            <td>38.2668</td>\n",
              "            <td>No</td>\n",
              "            <td>Online</td>\n",
              "        </tr>\n",
              "        <tr>\n",
              "            <td>2</td>\n",
              "            <td>CA-2019-160304</td>\n",
              "            <td>2019-01-02</td>\n",
              "            <td>2019-01-07</td>\n",
              "            <td>Corporate</td>\n",
              "            <td>Gaithersburg</td>\n",
              "            <td>Maryland</td>\n",
              "            <td>TEC-PH-10000455</td>\n",
              "            <td>Technology</td>\n",
              "            <td>Phones</td>\n",
              "            <td>GE 30522EE2</td>\n",
              "            <td>231.98</td>\n",
              "            <td>2</td>\n",
              "            <td>67.2742</td>\n",
              "            <td>No</td>\n",
              "            <td>Cards</td>\n",
              "        </tr>\n",
              "        <tr>\n",
              "            <td>3</td>\n",
              "            <td>CA-2019-125206</td>\n",
              "            <td>2019-01-03</td>\n",
              "            <td>2019-01-05</td>\n",
              "            <td>Consumer</td>\n",
              "            <td>Los Angeles</td>\n",
              "            <td>California</td>\n",
              "            <td>OFF-ST-10003692</td>\n",
              "            <td>Office Supplies</td>\n",
              "            <td>Storage</td>\n",
              "            <td>Recycled Steel Personal File for Hanging File Folders</td>\n",
              "            <td>114.46</td>\n",
              "            <td>2</td>\n",
              "            <td>28.615</td>\n",
              "            <td>No</td>\n",
              "            <td>Online</td>\n",
              "        </tr>\n",
              "        <tr>\n",
              "            <td>4</td>\n",
              "            <td>US-2019-116365</td>\n",
              "            <td>2019-01-03</td>\n",
              "            <td>2019-01-08</td>\n",
              "            <td>Corporate</td>\n",
              "            <td>San Antonio</td>\n",
              "            <td>Texas</td>\n",
              "            <td>TEC-AC-10002217</td>\n",
              "            <td>Technology</td>\n",
              "            <td>Accessories</td>\n",
              "            <td>Imation Clip USB flash drive - 8 GB</td>\n",
              "            <td>30.08</td>\n",
              "            <td>2</td>\n",
              "            <td>-5.264</td>\n",
              "            <td>No</td>\n",
              "            <td>Online</td>\n",
              "        </tr>\n",
              "    </tbody>\n",
              "</table>"
            ]
          },
          "metadata": {},
          "execution_count": 8
        }
      ]
    },
    {
      "cell_type": "markdown",
      "source": [
        "## SQL Analysis"
      ],
      "metadata": {
        "id": "Gx1Tvi6XJVC0"
      }
    },
    {
      "cell_type": "markdown",
      "source": [
        "### **Total Transactions Each Month**"
      ],
      "metadata": {
        "id": "4gofRnWHZCG-"
      }
    },
    {
      "cell_type": "code",
      "source": [
        "%%sql\n",
        "WITH month_trans AS(\n",
        "  SELECT\n",
        "    strftime('%Y', Order_Date) AS Year,\n",
        "    strftime('%m', Order_Date) AS Month,\n",
        "    COUNT(*) AS Total_Transaction\n",
        "  FROM(\n",
        "      SELECT\n",
        "        Order_ID,\n",
        "        Order_Date\n",
        "      FROM sales\n",
        "      GROUP BY Order_ID,Order_Date)\n",
        "  GROUP BY Year,Month)\n",
        "SELECT\n",
        "  Month,\n",
        "  SUM(CASE WHEN Year = '2019' THEN Total_Transaction ELSE 0 END) AS Transaction_2019,\n",
        "  SUM(CASE WHEN Year = '2020' THEN Total_Transaction ELSE 0 END) AS Transaction_2020\n",
        "FROM month_trans\n",
        "GROUP BY Month\n",
        "ORDER BY Month"
      ],
      "metadata": {
        "colab": {
          "base_uri": "https://localhost:8080/"
        },
        "id": "zFE0YD8_ZLzG",
        "outputId": "fc1a27a0-671e-4f2a-c49f-5ef0f786f18e"
      },
      "execution_count": null,
      "outputs": [
        {
          "output_type": "stream",
          "name": "stdout",
          "text": [
            " * sqlite://\n",
            "Done.\n"
          ]
        },
        {
          "output_type": "execute_result",
          "data": {
            "text/plain": [
              "[('01', 49, 69),\n",
              " ('02', 45, 53),\n",
              " ('03', 86, 118),\n",
              " ('04', 89, 116),\n",
              " ('05', 108, 118),\n",
              " ('06', 97, 133),\n",
              " ('07', 96, 111),\n",
              " ('08', 90, 111),\n",
              " ('09', 192, 226),\n",
              " ('10', 105, 147),\n",
              " ('11', 183, 261),\n",
              " ('12', 176, 225)]"
            ],
            "text/html": [
              "<table>\n",
              "    <thead>\n",
              "        <tr>\n",
              "            <th>Month</th>\n",
              "            <th>Transaction_2019</th>\n",
              "            <th>Transaction_2020</th>\n",
              "        </tr>\n",
              "    </thead>\n",
              "    <tbody>\n",
              "        <tr>\n",
              "            <td>01</td>\n",
              "            <td>49</td>\n",
              "            <td>69</td>\n",
              "        </tr>\n",
              "        <tr>\n",
              "            <td>02</td>\n",
              "            <td>45</td>\n",
              "            <td>53</td>\n",
              "        </tr>\n",
              "        <tr>\n",
              "            <td>03</td>\n",
              "            <td>86</td>\n",
              "            <td>118</td>\n",
              "        </tr>\n",
              "        <tr>\n",
              "            <td>04</td>\n",
              "            <td>89</td>\n",
              "            <td>116</td>\n",
              "        </tr>\n",
              "        <tr>\n",
              "            <td>05</td>\n",
              "            <td>108</td>\n",
              "            <td>118</td>\n",
              "        </tr>\n",
              "        <tr>\n",
              "            <td>06</td>\n",
              "            <td>97</td>\n",
              "            <td>133</td>\n",
              "        </tr>\n",
              "        <tr>\n",
              "            <td>07</td>\n",
              "            <td>96</td>\n",
              "            <td>111</td>\n",
              "        </tr>\n",
              "        <tr>\n",
              "            <td>08</td>\n",
              "            <td>90</td>\n",
              "            <td>111</td>\n",
              "        </tr>\n",
              "        <tr>\n",
              "            <td>09</td>\n",
              "            <td>192</td>\n",
              "            <td>226</td>\n",
              "        </tr>\n",
              "        <tr>\n",
              "            <td>10</td>\n",
              "            <td>105</td>\n",
              "            <td>147</td>\n",
              "        </tr>\n",
              "        <tr>\n",
              "            <td>11</td>\n",
              "            <td>183</td>\n",
              "            <td>261</td>\n",
              "        </tr>\n",
              "        <tr>\n",
              "            <td>12</td>\n",
              "            <td>176</td>\n",
              "            <td>225</td>\n",
              "        </tr>\n",
              "    </tbody>\n",
              "</table>"
            ]
          },
          "metadata": {},
          "execution_count": 18
        }
      ]
    },
    {
      "cell_type": "markdown",
      "source": [
        "### **Top 5 Transaction by Total Price**"
      ],
      "metadata": {
        "id": "-gi14SyqW7TP"
      }
    },
    {
      "cell_type": "code",
      "source": [
        "%%sql\n",
        "SELECT\n",
        "  Order_ID,\n",
        "  ROUND(SUM(Price),2) AS Total_Price\n",
        "FROM sales\n",
        "GROUP BY Order_ID\n",
        "ORDER BY Total_Price DESC\n",
        "LIMIT 5"
      ],
      "metadata": {
        "colab": {
          "base_uri": "https://localhost:8080/",
          "height": 175
        },
        "id": "1_DrN1M-IjzO",
        "outputId": "2b9c0b08-bc30-4a5b-a911-1d3e8fb97afc"
      },
      "execution_count": null,
      "outputs": [
        {
          "output_type": "stream",
          "name": "stdout",
          "text": [
            " * sqlite://\n",
            "Done.\n"
          ]
        },
        {
          "output_type": "execute_result",
          "data": {
            "text/plain": [
              "[('US-2019-107440', 9135.19),\n",
              " ('CA-2020-100111', 8262.92),\n",
              " ('US-2019-143819', 6125.82),\n",
              " ('CA-2020-138289', 5963.7),\n",
              " ('CA-2020-143112', 5594.14)]"
            ],
            "text/html": [
              "<table>\n",
              "    <thead>\n",
              "        <tr>\n",
              "            <th>Order_ID</th>\n",
              "            <th>Total_Price</th>\n",
              "        </tr>\n",
              "    </thead>\n",
              "    <tbody>\n",
              "        <tr>\n",
              "            <td>US-2019-107440</td>\n",
              "            <td>9135.19</td>\n",
              "        </tr>\n",
              "        <tr>\n",
              "            <td>CA-2020-100111</td>\n",
              "            <td>8262.92</td>\n",
              "        </tr>\n",
              "        <tr>\n",
              "            <td>US-2019-143819</td>\n",
              "            <td>6125.82</td>\n",
              "        </tr>\n",
              "        <tr>\n",
              "            <td>CA-2020-138289</td>\n",
              "            <td>5963.7</td>\n",
              "        </tr>\n",
              "        <tr>\n",
              "            <td>CA-2020-143112</td>\n",
              "            <td>5594.14</td>\n",
              "        </tr>\n",
              "    </tbody>\n",
              "</table>"
            ]
          },
          "metadata": {},
          "execution_count": 60
        }
      ]
    },
    {
      "cell_type": "markdown",
      "source": [
        "### **Top 5 Sub-Categories with the Highest Sales in the Top 10 of Product Rankings**"
      ],
      "metadata": {
        "id": "zBZ0XCadbh3Y"
      }
    },
    {
      "cell_type": "code",
      "source": [
        "%%sql\n",
        "\n",
        "WITH Rank_Product AS (\n",
        "  SELECT\n",
        "    *,\n",
        "    DENSE_RANK() OVER (ORDER BY Total_Product DESC) AS Product_Rank\n",
        "  FROM (\n",
        "    SELECT\n",
        "      Product_Name,\n",
        "      Sub_Category,\n",
        "      Category,\n",
        "      SUM(Quantity) AS Total_Product\n",
        "    FROM sales\n",
        "    GROUP BY Product_Name, Sub_Category, Category)\n",
        "  ORDER BY Product_Rank\n",
        ")\n",
        "\n",
        "SELECT Sub_Category_Rank,Sub_Category\n",
        "FROM (\n",
        "    SELECT\n",
        "      Sub_Category,\n",
        "      Category,\n",
        "      SUM(Total_Product) AS Total,\n",
        "      ROW_NUMBER() OVER (ORDER BY SUM(Total_Product) DESC) AS Sub_Category_Rank\n",
        "    FROM Rank_Product\n",
        "    WHERE Product_Rank <= 10\n",
        "    GROUP BY Sub_Category, Category)\n",
        "WHERE Sub_Category_Rank <=5\n",
        "ORDER BY Sub_Category_Rank\n"
      ],
      "metadata": {
        "colab": {
          "base_uri": "https://localhost:8080/",
          "height": 175
        },
        "id": "MgdVZMQAbgoR",
        "outputId": "91a9003f-3da5-4eee-8ee8-62e63018a1ca"
      },
      "execution_count": null,
      "outputs": [
        {
          "output_type": "stream",
          "name": "stdout",
          "text": [
            " * sqlite://\n",
            "Done.\n"
          ]
        },
        {
          "output_type": "execute_result",
          "data": {
            "text/plain": [
              "[(1, 'Binders'), (2, 'Fasteners'), (3, 'Paper'), (4, 'Envelopes'), (5, 'Art')]"
            ],
            "text/html": [
              "<table>\n",
              "    <thead>\n",
              "        <tr>\n",
              "            <th>Sub_Category_Rank</th>\n",
              "            <th>Sub_Category</th>\n",
              "        </tr>\n",
              "    </thead>\n",
              "    <tbody>\n",
              "        <tr>\n",
              "            <td>1</td>\n",
              "            <td>Binders</td>\n",
              "        </tr>\n",
              "        <tr>\n",
              "            <td>2</td>\n",
              "            <td>Fasteners</td>\n",
              "        </tr>\n",
              "        <tr>\n",
              "            <td>3</td>\n",
              "            <td>Paper</td>\n",
              "        </tr>\n",
              "        <tr>\n",
              "            <td>4</td>\n",
              "            <td>Envelopes</td>\n",
              "        </tr>\n",
              "        <tr>\n",
              "            <td>5</td>\n",
              "            <td>Art</td>\n",
              "        </tr>\n",
              "    </tbody>\n",
              "</table>"
            ]
          },
          "metadata": {},
          "execution_count": 40
        }
      ]
    },
    {
      "cell_type": "markdown",
      "source": [
        "### **Top Selling Product for Each Sub-Category**"
      ],
      "metadata": {
        "id": "XkTuFU6pa1WV"
      }
    },
    {
      "cell_type": "code",
      "source": [
        "%%sql\n",
        "WITH Rank_Product AS (\n",
        "  SELECT\n",
        "    *,\n",
        "    DENSE_RANK() OVER (PARTITION BY Sub_Category ORDER BY Total_Sales DESC) AS Product_Rank\n",
        "  FROM(\n",
        "    SELECT\n",
        "      Sub_Category,\n",
        "      Product_Name,\n",
        "      SUM(Quantity) AS Total_Sales\n",
        "    FROM sales\n",
        "    GROUP BY Sub_Category,Product_Name)\n",
        ")\n",
        "SELECT\n",
        "  Sub_Category,\n",
        "  Product_Name\n",
        "FROM Rank_Product\n",
        "WHERE Product_Rank=1"
      ],
      "metadata": {
        "colab": {
          "base_uri": "https://localhost:8080/",
          "height": 441
        },
        "id": "sjen-jsPa0_t",
        "outputId": "ec8d314e-471a-4202-e765-4b981860a5de"
      },
      "execution_count": null,
      "outputs": [
        {
          "output_type": "stream",
          "name": "stdout",
          "text": [
            " * sqlite://\n",
            "Done.\n"
          ]
        },
        {
          "output_type": "execute_result",
          "data": {
            "text/plain": [
              "[('Accessories', 'Memorex Mini Travel Drive 16 GB USB 2.0 Flash Drive'),\n",
              " ('Appliances', 'Staple holder'),\n",
              " ('Art', 'Staples in misc. colors'),\n",
              " ('Binders', 'Storex Dura Pro Binders'),\n",
              " ('Bookcases', 'Bush Westfield Collection Bookcases, Medium Cherry Finish'),\n",
              " ('Bookcases', \"O'Sullivan 4-Shelf Bookcase in Odessa Pine\"),\n",
              " ('Chairs', 'Situations Contoured Folding Chairs, 4/Set'),\n",
              " ('Copiers', 'Hewlett Packard LaserJet 3310 Copier'),\n",
              " ('Envelopes', 'Staple envelope'),\n",
              " ('Fasteners', 'Staples'),\n",
              " ('Furnishings', 'Eldon Wave Desk Accessories'),\n",
              " ('Labels', 'Avery File Folder Labels'),\n",
              " ('Machines', 'Fellowes Powershred HS-440 4-Sheet High Security Shredder'),\n",
              " ('Paper', 'Easy-staple paper'),\n",
              " ('Phones', 'Motorola HK250 Universal Bluetooth Headset'),\n",
              " ('Storage', 'Fellowes Mobile File Cart, Black'),\n",
              " ('Supplies', 'Staple remover'),\n",
              " ('Tables', 'Chromcraft Round Conference Tables')]"
            ],
            "text/html": [
              "<table>\n",
              "    <thead>\n",
              "        <tr>\n",
              "            <th>Sub_Category</th>\n",
              "            <th>Product_Name</th>\n",
              "        </tr>\n",
              "    </thead>\n",
              "    <tbody>\n",
              "        <tr>\n",
              "            <td>Accessories</td>\n",
              "            <td>Memorex Mini Travel Drive 16 GB USB 2.0 Flash Drive</td>\n",
              "        </tr>\n",
              "        <tr>\n",
              "            <td>Appliances</td>\n",
              "            <td>Staple holder</td>\n",
              "        </tr>\n",
              "        <tr>\n",
              "            <td>Art</td>\n",
              "            <td>Staples in misc. colors</td>\n",
              "        </tr>\n",
              "        <tr>\n",
              "            <td>Binders</td>\n",
              "            <td>Storex Dura Pro Binders</td>\n",
              "        </tr>\n",
              "        <tr>\n",
              "            <td>Bookcases</td>\n",
              "            <td>Bush Westfield Collection Bookcases, Medium Cherry Finish</td>\n",
              "        </tr>\n",
              "        <tr>\n",
              "            <td>Bookcases</td>\n",
              "            <td>O&#x27;Sullivan 4-Shelf Bookcase in Odessa Pine</td>\n",
              "        </tr>\n",
              "        <tr>\n",
              "            <td>Chairs</td>\n",
              "            <td>Situations Contoured Folding Chairs, 4/Set</td>\n",
              "        </tr>\n",
              "        <tr>\n",
              "            <td>Copiers</td>\n",
              "            <td>Hewlett Packard LaserJet 3310 Copier</td>\n",
              "        </tr>\n",
              "        <tr>\n",
              "            <td>Envelopes</td>\n",
              "            <td>Staple envelope</td>\n",
              "        </tr>\n",
              "        <tr>\n",
              "            <td>Fasteners</td>\n",
              "            <td>Staples</td>\n",
              "        </tr>\n",
              "        <tr>\n",
              "            <td>Furnishings</td>\n",
              "            <td>Eldon Wave Desk Accessories</td>\n",
              "        </tr>\n",
              "        <tr>\n",
              "            <td>Labels</td>\n",
              "            <td>Avery File Folder Labels</td>\n",
              "        </tr>\n",
              "        <tr>\n",
              "            <td>Machines</td>\n",
              "            <td>Fellowes Powershred HS-440 4-Sheet High Security Shredder</td>\n",
              "        </tr>\n",
              "        <tr>\n",
              "            <td>Paper</td>\n",
              "            <td>Easy-staple paper</td>\n",
              "        </tr>\n",
              "        <tr>\n",
              "            <td>Phones</td>\n",
              "            <td>Motorola HK250 Universal Bluetooth Headset</td>\n",
              "        </tr>\n",
              "        <tr>\n",
              "            <td>Storage</td>\n",
              "            <td>Fellowes Mobile File Cart, Black</td>\n",
              "        </tr>\n",
              "        <tr>\n",
              "            <td>Supplies</td>\n",
              "            <td>Staple remover</td>\n",
              "        </tr>\n",
              "        <tr>\n",
              "            <td>Tables</td>\n",
              "            <td>Chromcraft Round Conference Tables</td>\n",
              "        </tr>\n",
              "    </tbody>\n",
              "</table>"
            ]
          },
          "metadata": {},
          "execution_count": 25
        }
      ]
    },
    {
      "cell_type": "markdown",
      "source": [
        "### **Top 3 Products by Average Order Quantity per Transaction**"
      ],
      "metadata": {
        "id": "4t_pmK2Xahgg"
      }
    },
    {
      "cell_type": "code",
      "source": [
        "%%sql\n",
        "WITH Rank_Product AS (\n",
        "  SELECT\n",
        "    Product_Name,\n",
        "    CEIL(AVG(Total_Order)) AS Average_Total_Order,\n",
        "    DENSE_RANK() OVER (ORDER BY CEIL(AVG(Total_Order)) DESC) AS Product_Rank\n",
        "  FROM (\n",
        "    SELECT\n",
        "      Order_ID,\n",
        "      Product_Name,\n",
        "      SUM(Quantity) AS Total_Order\n",
        "    FROM sales\n",
        "    GROUP BY Order_ID, Product_Name\n",
        "  )\n",
        "  GROUP BY Product_Name\n",
        ")\n",
        "SELECT\n",
        "  Product_Rank,\n",
        "  Product_Name,\n",
        "  Average_Total_Order\n",
        "FROM Rank_Product\n",
        "WHERE Product_Rank <= 3\n",
        "ORDER BY Product_Rank;"
      ],
      "metadata": {
        "colab": {
          "base_uri": "https://localhost:8080/",
          "height": 380
        },
        "id": "uzSmV50Rahr7",
        "outputId": "ec20848d-bc5a-48e2-9423-f454389315f5"
      },
      "execution_count": null,
      "outputs": [
        {
          "output_type": "stream",
          "name": "stdout",
          "text": [
            " * sqlite://\n",
            "Done.\n"
          ]
        },
        {
          "output_type": "execute_result",
          "data": {
            "text/plain": [
              "[(1, 'Xerox 1964', 12.0),\n",
              " (2, 'Sauder Camden County Collection Library', 10.0),\n",
              " (2, 'Sanford Uni-Blazer View Highlighters, Chisel Tip, Yellow', 10.0),\n",
              " (2, 'Panasonic KX MB2061 Multifunction Printer', 10.0),\n",
              " (2, 'Acco PRESSTEX Data Binder with Storage Hooks, Dark Blue, 14 7/8\" X 11\"', 10.0),\n",
              " (3, 'Xerox 197', 9.0),\n",
              " (3, 'Tennsco Lockers, Sand', 9.0),\n",
              " (3, 'Southworth 100% Cotton The Best Paper', 9.0),\n",
              " (3, 'Redi-Strip #10 Envelopes, 4 1/8 x 9 1/2', 9.0),\n",
              " (3, 'Luxo Adjustable Task Clamp Lamp', 9.0),\n",
              " (3, 'Imation Bio 8GB USB\\xa0Flash Drive Imation\\xa0Corp', 9.0),\n",
              " (3, 'Fashion Color Clasp Envelopes', 9.0),\n",
              " (3, \"Electrix Architect's Clamp-On Swing Arm Lamp, Black\", 9.0),\n",
              " (3, 'Bush Birmingham Collection Bookcase, Dark Cherry', 9.0),\n",
              " (3, 'Adams Phone Message Book, Professional, 400 Message Capacity, 5 3/6\\x94 x 11\\x94', 9.0)]"
            ],
            "text/html": [
              "<table>\n",
              "    <thead>\n",
              "        <tr>\n",
              "            <th>Product_Rank</th>\n",
              "            <th>Product_Name</th>\n",
              "            <th>Average_Total_Order</th>\n",
              "        </tr>\n",
              "    </thead>\n",
              "    <tbody>\n",
              "        <tr>\n",
              "            <td>1</td>\n",
              "            <td>Xerox 1964</td>\n",
              "            <td>12.0</td>\n",
              "        </tr>\n",
              "        <tr>\n",
              "            <td>2</td>\n",
              "            <td>Sauder Camden County Collection Library</td>\n",
              "            <td>10.0</td>\n",
              "        </tr>\n",
              "        <tr>\n",
              "            <td>2</td>\n",
              "            <td>Sanford Uni-Blazer View Highlighters, Chisel Tip, Yellow</td>\n",
              "            <td>10.0</td>\n",
              "        </tr>\n",
              "        <tr>\n",
              "            <td>2</td>\n",
              "            <td>Panasonic KX MB2061 Multifunction Printer</td>\n",
              "            <td>10.0</td>\n",
              "        </tr>\n",
              "        <tr>\n",
              "            <td>2</td>\n",
              "            <td>Acco PRESSTEX Data Binder with Storage Hooks, Dark Blue, 14 7/8&quot; X 11&quot;</td>\n",
              "            <td>10.0</td>\n",
              "        </tr>\n",
              "        <tr>\n",
              "            <td>3</td>\n",
              "            <td>Xerox 197</td>\n",
              "            <td>9.0</td>\n",
              "        </tr>\n",
              "        <tr>\n",
              "            <td>3</td>\n",
              "            <td>Tennsco Lockers, Sand</td>\n",
              "            <td>9.0</td>\n",
              "        </tr>\n",
              "        <tr>\n",
              "            <td>3</td>\n",
              "            <td>Southworth 100% Cotton The Best Paper</td>\n",
              "            <td>9.0</td>\n",
              "        </tr>\n",
              "        <tr>\n",
              "            <td>3</td>\n",
              "            <td>Redi-Strip #10 Envelopes, 4 1/8 x 9 1/2</td>\n",
              "            <td>9.0</td>\n",
              "        </tr>\n",
              "        <tr>\n",
              "            <td>3</td>\n",
              "            <td>Luxo Adjustable Task Clamp Lamp</td>\n",
              "            <td>9.0</td>\n",
              "        </tr>\n",
              "        <tr>\n",
              "            <td>3</td>\n",
              "            <td>Imation Bio 8GB USB Flash Drive Imation Corp</td>\n",
              "            <td>9.0</td>\n",
              "        </tr>\n",
              "        <tr>\n",
              "            <td>3</td>\n",
              "            <td>Fashion Color Clasp Envelopes</td>\n",
              "            <td>9.0</td>\n",
              "        </tr>\n",
              "        <tr>\n",
              "            <td>3</td>\n",
              "            <td>Electrix Architect&#x27;s Clamp-On Swing Arm Lamp, Black</td>\n",
              "            <td>9.0</td>\n",
              "        </tr>\n",
              "        <tr>\n",
              "            <td>3</td>\n",
              "            <td>Bush Birmingham Collection Bookcase, Dark Cherry</td>\n",
              "            <td>9.0</td>\n",
              "        </tr>\n",
              "        <tr>\n",
              "            <td>3</td>\n",
              "            <td>Adams Phone Message Book, Professional, 400 Message Capacity, 5 3/6 x 11</td>\n",
              "            <td>9.0</td>\n",
              "        </tr>\n",
              "    </tbody>\n",
              "</table>"
            ]
          },
          "metadata": {},
          "execution_count": 61
        }
      ]
    },
    {
      "cell_type": "markdown",
      "source": [
        "### **Top 5 Sub-Categories by Profit for Each Year**"
      ],
      "metadata": {
        "id": "_hctNQZzdA4G"
      }
    },
    {
      "cell_type": "code",
      "source": [
        "%%sql\n",
        "WITH Rank_Sub_Category AS (\n",
        "  SELECT\n",
        "    *,\n",
        "    ROW_NUMBER() OVER (PARTITION BY Year ORDER BY Total_Profit DESC) AS Sub_Category_Rank\n",
        "  FROM(\n",
        "      SELECT\n",
        "        strftime('%Y', Order_Date) AS Year,\n",
        "        Sub_Category,\n",
        "        ROUND(SUM(Profit), 2) AS Total_Profit\n",
        "      FROM sales\n",
        "      GROUP BY Year,Sub_Category)\n",
        ")\n",
        "\n",
        "SELECT\n",
        "  Sub_Category_Rank,\n",
        "  MAX(CASE WHEN Year = '2019' THEN Sub_Category END) AS Sub_Category_2019,\n",
        "  MAX(CASE WHEN Year = '2020' THEN Sub_Category END) AS Sub_Category_2020\n",
        "FROM Rank_Sub_Category\n",
        "WHERE Sub_Category_Rank <= 5\n",
        "GROUP BY Sub_Category_Rank\n",
        "ORDER BY Sub_Category_Rank"
      ],
      "metadata": {
        "colab": {
          "base_uri": "https://localhost:8080/",
          "height": 175
        },
        "id": "rJ91A7ZldBE9",
        "outputId": "fc3a5547-3db3-4265-de21-b5ffbcbcc443"
      },
      "execution_count": null,
      "outputs": [
        {
          "output_type": "stream",
          "name": "stdout",
          "text": [
            " * sqlite://\n",
            "Done.\n"
          ]
        },
        {
          "output_type": "execute_result",
          "data": {
            "text/plain": [
              "[(1, 'Copiers', 'Copiers'),\n",
              " (2, 'Binders', 'Accessories'),\n",
              " (3, 'Accessories', 'Phones'),\n",
              " (4, 'Phones', 'Paper'),\n",
              " (5, 'Paper', 'Appliances')]"
            ],
            "text/html": [
              "<table>\n",
              "    <thead>\n",
              "        <tr>\n",
              "            <th>Sub_Category_Rank</th>\n",
              "            <th>Sub_Category_2019</th>\n",
              "            <th>Sub_Category_2020</th>\n",
              "        </tr>\n",
              "    </thead>\n",
              "    <tbody>\n",
              "        <tr>\n",
              "            <td>1</td>\n",
              "            <td>Copiers</td>\n",
              "            <td>Copiers</td>\n",
              "        </tr>\n",
              "        <tr>\n",
              "            <td>2</td>\n",
              "            <td>Binders</td>\n",
              "            <td>Accessories</td>\n",
              "        </tr>\n",
              "        <tr>\n",
              "            <td>3</td>\n",
              "            <td>Accessories</td>\n",
              "            <td>Phones</td>\n",
              "        </tr>\n",
              "        <tr>\n",
              "            <td>4</td>\n",
              "            <td>Phones</td>\n",
              "            <td>Paper</td>\n",
              "        </tr>\n",
              "        <tr>\n",
              "            <td>5</td>\n",
              "            <td>Paper</td>\n",
              "            <td>Appliances</td>\n",
              "        </tr>\n",
              "    </tbody>\n",
              "</table>"
            ]
          },
          "metadata": {},
          "execution_count": 41
        }
      ]
    },
    {
      "cell_type": "markdown",
      "source": [
        "### **Sub-Categories with Negative Profit Each Year**"
      ],
      "metadata": {
        "id": "ULtXZKyEfzmm"
      }
    },
    {
      "cell_type": "code",
      "source": [
        "%%sql\n",
        "SELECT\n",
        "  strftime('%Y', Order_Date) AS Year,\n",
        "  Sub_Category,\n",
        "  ROUND(SUM(Profit), 2) AS Total_Profit\n",
        "FROM sales\n",
        "GROUP BY Sub_Category,Year\n",
        "HAVING SUM(Profit) < 0\n",
        "ORDER BY Year;"
      ],
      "metadata": {
        "colab": {
          "base_uri": "https://localhost:8080/",
          "height": 196
        },
        "id": "1Z87LUJKfz1K",
        "outputId": "d467d159-0954-429a-99fa-329d2c67f328"
      },
      "execution_count": null,
      "outputs": [
        {
          "output_type": "stream",
          "name": "stdout",
          "text": [
            " * sqlite://\n",
            "Done.\n"
          ]
        },
        {
          "output_type": "execute_result",
          "data": {
            "text/plain": [
              "[('2019', 'Supplies', -698.96),\n",
              " ('2019', 'Tables', -2950.94),\n",
              " ('2020', 'Bookcases', -583.63),\n",
              " ('2020', 'Machines', -2869.22),\n",
              " ('2020', 'Supplies', -955.31),\n",
              " ('2020', 'Tables', -8140.69)]"
            ],
            "text/html": [
              "<table>\n",
              "    <thead>\n",
              "        <tr>\n",
              "            <th>Year</th>\n",
              "            <th>Sub_Category</th>\n",
              "            <th>Total_Profit</th>\n",
              "        </tr>\n",
              "    </thead>\n",
              "    <tbody>\n",
              "        <tr>\n",
              "            <td>2019</td>\n",
              "            <td>Supplies</td>\n",
              "            <td>-698.96</td>\n",
              "        </tr>\n",
              "        <tr>\n",
              "            <td>2019</td>\n",
              "            <td>Tables</td>\n",
              "            <td>-2950.94</td>\n",
              "        </tr>\n",
              "        <tr>\n",
              "            <td>2020</td>\n",
              "            <td>Bookcases</td>\n",
              "            <td>-583.63</td>\n",
              "        </tr>\n",
              "        <tr>\n",
              "            <td>2020</td>\n",
              "            <td>Machines</td>\n",
              "            <td>-2869.22</td>\n",
              "        </tr>\n",
              "        <tr>\n",
              "            <td>2020</td>\n",
              "            <td>Supplies</td>\n",
              "            <td>-955.31</td>\n",
              "        </tr>\n",
              "        <tr>\n",
              "            <td>2020</td>\n",
              "            <td>Tables</td>\n",
              "            <td>-8140.69</td>\n",
              "        </tr>\n",
              "    </tbody>\n",
              "</table>"
            ]
          },
          "metadata": {},
          "execution_count": 48
        }
      ]
    },
    {
      "cell_type": "markdown",
      "source": [
        "### **States with Reduced Profitability in 2020**"
      ],
      "metadata": {
        "id": "5nTCVLeSgISc"
      }
    },
    {
      "cell_type": "code",
      "source": [
        "%%sql\n",
        "SELECT\n",
        "  State\n",
        "FROM (\n",
        "  SELECT\n",
        "    State,\n",
        "    SUM(CASE WHEN strftime('%Y', Order_Date) = '2019' THEN Profit ELSE 0 END) AS Profit_2019,\n",
        "    SUM(CASE WHEN strftime('%Y', Order_Date) = '2020' THEN Profit ELSE 0 END) AS Profit_2020\n",
        "  FROM sales\n",
        "  GROUP BY State\n",
        ")\n",
        "WHERE Profit_2019>Profit_2020"
      ],
      "metadata": {
        "colab": {
          "base_uri": "https://localhost:8080/",
          "height": 523
        },
        "id": "YS6uAdqYgIcD",
        "outputId": "6e47e78b-149e-4a8a-d16f-056a1196dda1"
      },
      "execution_count": null,
      "outputs": [
        {
          "output_type": "stream",
          "name": "stdout",
          "text": [
            " * sqlite://\n",
            "Done.\n"
          ]
        },
        {
          "output_type": "execute_result",
          "data": {
            "text/plain": [
              "[('Alabama',),\n",
              " ('Colorado',),\n",
              " ('District of Columbia',),\n",
              " ('Idaho',),\n",
              " ('Illinois',),\n",
              " ('Indiana',),\n",
              " ('Iowa',),\n",
              " ('Maine',),\n",
              " ('Michigan',),\n",
              " ('Mississippi',),\n",
              " ('Nevada',),\n",
              " ('New Jersey',),\n",
              " ('North Carolina',),\n",
              " ('Pennsylvania',),\n",
              " ('Rhode Island',),\n",
              " ('Tennessee',),\n",
              " ('Texas',),\n",
              " ('Utah',),\n",
              " ('Vermont',),\n",
              " ('Virginia',),\n",
              " ('Wisconsin',),\n",
              " ('Wyoming',)]"
            ],
            "text/html": [
              "<table>\n",
              "    <thead>\n",
              "        <tr>\n",
              "            <th>State</th>\n",
              "        </tr>\n",
              "    </thead>\n",
              "    <tbody>\n",
              "        <tr>\n",
              "            <td>Alabama</td>\n",
              "        </tr>\n",
              "        <tr>\n",
              "            <td>Colorado</td>\n",
              "        </tr>\n",
              "        <tr>\n",
              "            <td>District of Columbia</td>\n",
              "        </tr>\n",
              "        <tr>\n",
              "            <td>Idaho</td>\n",
              "        </tr>\n",
              "        <tr>\n",
              "            <td>Illinois</td>\n",
              "        </tr>\n",
              "        <tr>\n",
              "            <td>Indiana</td>\n",
              "        </tr>\n",
              "        <tr>\n",
              "            <td>Iowa</td>\n",
              "        </tr>\n",
              "        <tr>\n",
              "            <td>Maine</td>\n",
              "        </tr>\n",
              "        <tr>\n",
              "            <td>Michigan</td>\n",
              "        </tr>\n",
              "        <tr>\n",
              "            <td>Mississippi</td>\n",
              "        </tr>\n",
              "        <tr>\n",
              "            <td>Nevada</td>\n",
              "        </tr>\n",
              "        <tr>\n",
              "            <td>New Jersey</td>\n",
              "        </tr>\n",
              "        <tr>\n",
              "            <td>North Carolina</td>\n",
              "        </tr>\n",
              "        <tr>\n",
              "            <td>Pennsylvania</td>\n",
              "        </tr>\n",
              "        <tr>\n",
              "            <td>Rhode Island</td>\n",
              "        </tr>\n",
              "        <tr>\n",
              "            <td>Tennessee</td>\n",
              "        </tr>\n",
              "        <tr>\n",
              "            <td>Texas</td>\n",
              "        </tr>\n",
              "        <tr>\n",
              "            <td>Utah</td>\n",
              "        </tr>\n",
              "        <tr>\n",
              "            <td>Vermont</td>\n",
              "        </tr>\n",
              "        <tr>\n",
              "            <td>Virginia</td>\n",
              "        </tr>\n",
              "        <tr>\n",
              "            <td>Wisconsin</td>\n",
              "        </tr>\n",
              "        <tr>\n",
              "            <td>Wyoming</td>\n",
              "        </tr>\n",
              "    </tbody>\n",
              "</table>"
            ]
          },
          "metadata": {},
          "execution_count": 59
        }
      ]
    },
    {
      "cell_type": "markdown",
      "source": [
        "### **Return Rate by Payment Mode**"
      ],
      "metadata": {
        "id": "8MoHlvn6g76i"
      }
    },
    {
      "cell_type": "code",
      "source": [
        "%%sql\n",
        "SELECT\n",
        "  Payment_Mode,\n",
        "  ROUND((COUNT(CASE WHEN Returns = 'Yes' THEN 1 END) * 100.0) / COUNT(*),2) AS Return_Rate\n",
        "FROM sales\n",
        "GROUP BY Payment_Mode\n",
        "ORDER BY Return_Rate DESC"
      ],
      "metadata": {
        "colab": {
          "base_uri": "https://localhost:8080/",
          "height": 135
        },
        "id": "qfzuOWiug8J8",
        "outputId": "2c0a12cf-1aee-4a3b-b183-1dc35a9eb5df"
      },
      "execution_count": null,
      "outputs": [
        {
          "output_type": "stream",
          "name": "stdout",
          "text": [
            " * sqlite://\n",
            "Done.\n"
          ]
        },
        {
          "output_type": "execute_result",
          "data": {
            "text/plain": [
              "[('Online', 5.55), ('COD', 4.69), ('Cards', 4.05)]"
            ],
            "text/html": [
              "<table>\n",
              "    <thead>\n",
              "        <tr>\n",
              "            <th>Payment_Mode</th>\n",
              "            <th>Return_Rate</th>\n",
              "        </tr>\n",
              "    </thead>\n",
              "    <tbody>\n",
              "        <tr>\n",
              "            <td>Online</td>\n",
              "            <td>5.55</td>\n",
              "        </tr>\n",
              "        <tr>\n",
              "            <td>COD</td>\n",
              "            <td>4.69</td>\n",
              "        </tr>\n",
              "        <tr>\n",
              "            <td>Cards</td>\n",
              "            <td>4.05</td>\n",
              "        </tr>\n",
              "    </tbody>\n",
              "</table>"
            ]
          },
          "metadata": {},
          "execution_count": 58
        }
      ]
    },
    {
      "cell_type": "markdown",
      "source": [
        "### **Order Processing Time: Days to Ship**"
      ],
      "metadata": {
        "id": "iSgyovkVhS0y"
      }
    },
    {
      "cell_type": "code",
      "source": [
        "%%sql\n",
        "SELECT\n",
        "  CAST(julianday(Ship_Date) - julianday(Order_Date) AS INT) AS Days_to_Ship,\n",
        "  Count(*) AS Total\n",
        "FROM sales\n",
        "GROUP BY Days_to_Ship\n",
        "ORDER BY Days_to_Ship"
      ],
      "metadata": {
        "colab": {
          "base_uri": "https://localhost:8080/",
          "height": 257
        },
        "id": "5flIuYR6hSZD",
        "outputId": "1f911a5a-892a-47cf-f151-fd7b11ac8308"
      },
      "execution_count": null,
      "outputs": [
        {
          "output_type": "stream",
          "name": "stdout",
          "text": [
            " * sqlite://\n",
            "Done.\n"
          ]
        },
        {
          "output_type": "execute_result",
          "data": {
            "text/plain": [
              "[(0, 326),\n",
              " (1, 265),\n",
              " (2, 783),\n",
              " (3, 624),\n",
              " (4, 1552),\n",
              " (5, 1217),\n",
              " (6, 763),\n",
              " (7, 369),\n",
              " (8, 2)]"
            ],
            "text/html": [
              "<table>\n",
              "    <thead>\n",
              "        <tr>\n",
              "            <th>Days_to_Ship</th>\n",
              "            <th>Total</th>\n",
              "        </tr>\n",
              "    </thead>\n",
              "    <tbody>\n",
              "        <tr>\n",
              "            <td>0</td>\n",
              "            <td>326</td>\n",
              "        </tr>\n",
              "        <tr>\n",
              "            <td>1</td>\n",
              "            <td>265</td>\n",
              "        </tr>\n",
              "        <tr>\n",
              "            <td>2</td>\n",
              "            <td>783</td>\n",
              "        </tr>\n",
              "        <tr>\n",
              "            <td>3</td>\n",
              "            <td>624</td>\n",
              "        </tr>\n",
              "        <tr>\n",
              "            <td>4</td>\n",
              "            <td>1552</td>\n",
              "        </tr>\n",
              "        <tr>\n",
              "            <td>5</td>\n",
              "            <td>1217</td>\n",
              "        </tr>\n",
              "        <tr>\n",
              "            <td>6</td>\n",
              "            <td>763</td>\n",
              "        </tr>\n",
              "        <tr>\n",
              "            <td>7</td>\n",
              "            <td>369</td>\n",
              "        </tr>\n",
              "        <tr>\n",
              "            <td>8</td>\n",
              "            <td>2</td>\n",
              "        </tr>\n",
              "    </tbody>\n",
              "</table>"
            ]
          },
          "metadata": {},
          "execution_count": 53
        }
      ]
    }
  ]
}